{
  "nbformat": 4,
  "nbformat_minor": 0,
  "metadata": {
    "colab": {
      "provenance": []
    },
    "kernelspec": {
      "name": "python3",
      "display_name": "Python 3"
    },
    "language_info": {
      "name": "python"
    }
  },
  "cells": [
    {
      "cell_type": "markdown",
      "source": [
        "# Day 02 Python Standard IO Assisted Practices\n",
        "\n",
        "IO Stream stands for Input and Output Stream. Here we will primarily focus on Standard Input (stdin) and Standard output (stdout) Stream"
      ],
      "metadata": {
        "id": "KJz66VizndaY"
      }
    },
    {
      "cell_type": "markdown",
      "source": [
        "## BEST PROGRAMMING PRACTICE\n",
        "\n",
        "> **1: Python String Format -** Using Python String Format in Print function enhances the readability and maintainability of the code\n",
        "\n",
        "> **2: Naming Conventions -**\n",
        "- **Global or Local Variables -** Should be in lower case and Use an underscore to join words.\n",
        "- **Constants in Python -** Should be only in upper case and Use an underscore to join words.\n",
        "- **Function Names -** Should be in lower case and Use an underscore to join words.\n",
        "- **Module Names -** Should be in lower case and Use an underscore to join words.\n",
        "- **Package Names -** Should be in lower case and Use an underscore to join words.\n",
        "- **Class Names -** Should follow CapWords convention.\n",
        "- **Merhod Names -** Should be in lower case and Use an underscore to join words.\n",
        "- **Merhod Arguments -**\n",
        "  - Every instance method should have ‘self’ as its first argument.\n",
        "  - Class methods should have their first argument named ‘cls’.\n",
        "\n",
        "> **3: Descriptive Variable Name -**\n",
        "- Avoid names that are too general or wordy. Maintain a good balance between the two.\n",
        "- **Bad:** user_list, dict_to_store_defns_of_a_word, swapNums, moveInts.\n",
        "- **Good:** user_info, word_definitions, swap_numbers, move_integers.\n",
        "- Avoid naming things like “X”, “Y” or “Z”.\n",
        "- Capitalize all letters of an abbreviation when using camelcase.\n",
        "- Avoid names starting with digits. Combination of lowercase letters (a to z) or uppercase letters (A to Z) or digits (0 to 9) or an underscore (_) can be used.\n",
        "\n",
        "> **4: Hard Coding Variables -** Hardcoding values to variables within your code can create maintenance and scalability challenging.\n",
        "\n",
        "> **5: Embracing Modularization -** Writing monolithic scripts without breaking code into reusable functions or classes can make code difficult to test, debug, and maintain.\n",
        "\n",
        "> **6: Proper Function Usage -** Python Functions are block of code that is run only when called. Guidelines for Python functions\n",
        "- 1: Proper Comments for the function\n",
        "- 2: Use of Global Variable should be avoided\n",
        "- 3: Use of function type annotation, by Default is any\n",
        "\n",
        "> **7: Handling Exceptions -** Ignoring exceptions or using bare except: clauses can hide bugs and lead to unexpected failures. Be specific about the exceptions you catch and handle, improving debugging and error resolution.\n",
        "\n",
        "> **8: Unit Test Cases -** Unit tests are designed to test single units of code in isolation. They are quick and easy to create, and help find and fix bugs early in the development cycle.\n",
        "- In Unit Test Cases the Input and the Output are well defined. It is to ensure the program also gives the same output\n",
        "- Please ensure all the Unit Test Cases identified in the program are tested\n"
      ],
      "metadata": {
        "id": "RrGMiD_RRmp1"
      }
    },
    {
      "cell_type": "markdown",
      "source": [
        "## PROG 1: OOPS Banner\n",
        "\n",
        "Write a Program to output OOPS as a Banner using 9 characters and 9 Rows of space and astrix\n",
        "\n",
        "> **Input =>** NONE\n",
        "\n",
        "> **Output =>**\n",
        "\n",
        "```\n",
        "   ***         ***      ******         *****\n",
        " **   **     **   **    **    **     **      \n",
        "**     **   **     **   **     **   **       \n",
        "**     **   **     **   **    **     **      \n",
        "**     **   **     **   ******         ***   \n",
        "**     **   **     **   **                **\n",
        "**     **   **     **   **                 **\n",
        " **   **     **   **    **                **\n",
        "   ***         ***      **           *****   \n",
        "```\n",
        "> **Hint =>**\n",
        "1. Use print function with 9 Characters of Space `' '` or `'*'` for each letter i.e. O, O, P, S\n",
        "2. Use 9 Print Statements\n"
      ],
      "metadata": {
        "id": "uYzVsJfk2-rW"
      }
    },
    {
      "cell_type": "code",
      "source": [
        "# PROG 2: OOPS Banner\n",
        "\n",
        "#Use print function with 9 characters of space ' ' or '*' for each letter\n",
        "# i.e. O,O,P,S and use 9 print statements\n",
        "\n",
        "\n",
        "print('   ***   ',' ','    ***   ',' ','******   ',' ','   ***** ')\n",
        "print(' **   ** ',' ','  **   ** ',' ','**    ** ',' ',' **      ')\n",
        "print('**     **',' ',' **     **',' ','**     **',' ','**       ')\n",
        "print('**     **',' ',' **     **',' ','**    ** ',' ',' **      ')\n",
        "print('**     **',' ',' **     **',' ','******   ',' ','   ***   ')\n",
        "print('**     **',' ',' **     **',' ','**       ',' ','      ** ')\n",
        "print('**     **',' ',' **     **',' ','**       ',' ','       **')\n",
        "print(' **   ** ',' ','  **   ** ',' ','**       ',' ','      ** ')\n",
        "print('   ***   ',' ','    ***   ',' ','**       ',' ',' *****   ')"
      ],
      "metadata": {
        "colab": {
          "base_uri": "https://localhost:8080/"
        },
        "id": "NFHR0RI75bGv",
        "outputId": "35c22002-d4c0-423b-ac49-845309a48c14"
      },
      "execution_count": null,
      "outputs": [
        {
          "output_type": "stream",
          "name": "stdout",
          "text": [
            "   ***          ***      ******         ***** \n",
            " **   **      **   **    **    **     **      \n",
            "**     **    **     **   **     **   **       \n",
            "**     **    **     **   **    **     **      \n",
            "**     **    **     **   ******         ***   \n",
            "**     **    **     **   **                ** \n",
            "**     **    **     **   **                 **\n",
            " **   **      **   **    **                ** \n",
            "   ***          ***      **           *****   \n"
          ]
        }
      ]
    },
    {
      "cell_type": "markdown",
      "source": [
        "## PROG 2: Places to visit\n",
        "\n",
        "Write a program is take user name and the 3 places to visit in the year from the user and display as the following\n",
        "\n",
        "> **Purpose -** The purpose of this program is the use of seperator and end parameters of `print()` function\n",
        "\n",
        "> **Input =>** Narayan, Mumbai, Pune, Chennai, 2024\n",
        "\n",
        "> **Output =>** `Hello Narayan and places to visit Mumbai, Pune, Chennai in the Year 2024`\n",
        "\n",
        "> **Hint =>**\n",
        "1. Use of `print(value, ..., sep=',', end=' ')` function with `sep=','` and `end = ' '`\n",
        "2. Use of Python Formatted String Literal (f-String)\n"
      ],
      "metadata": {
        "id": "o8Yz4qKHpPpE"
      }
    },
    {
      "cell_type": "code",
      "execution_count": null,
      "metadata": {
        "id": "RdPO2kGSgsvi",
        "colab": {
          "base_uri": "https://localhost:8080/"
        },
        "outputId": "932a4638-3e3b-4e4f-eaeb-dfb1ff9ad714"
      },
      "outputs": [
        {
          "output_type": "stream",
          "name": "stdout",
          "text": [
            "Help on built-in function print in module builtins:\n",
            "\n",
            "print(...)\n",
            "    print(value, ..., sep=' ', end='\\n', file=sys.stdout, flush=False)\n",
            "    \n",
            "    Prints the values to a stream, or to sys.stdout by default.\n",
            "    Optional keyword arguments:\n",
            "    file:  a file-like object (stream); defaults to the current sys.stdout.\n",
            "    sep:   string inserted between values, default a space.\n",
            "    end:   string appended after the last value, default a newline.\n",
            "    flush: whether to forcibly flush the stream.\n",
            "\n",
            "Help on method raw_input in module ipykernel.kernelbase:\n",
            "\n",
            "raw_input(prompt='') method of google.colab._kernel.Kernel instance\n",
            "    Forward raw_input to frontends\n",
            "    \n",
            "    Raises\n",
            "    ------\n",
            "    StdinNotImplementedError if active frontend doesn't support stdin.\n",
            "\n",
            "Enter the user name: Narayan\n",
            "Enter the first place you would like to visit: Mumbai\n",
            "Enter the second place you would like to visit: Pune\n",
            "Enter the third place you would like to visit: Bangalore\n",
            "Enter the year to visit: 2024\n",
            "\n",
            "Hello Narayan and places to visit are Mumbai, Pune, Bangalore in the year 2024\n"
          ]
        }
      ],
      "source": [
        "# PROG 2: Places to visit\n",
        "\n",
        "#Using help built-in function to know more about print\n",
        "help(print)\n",
        "\n",
        "#Using help built-in function to know more about input\n",
        "help(input)\n",
        "\n",
        "#Step 1: Take user inputs for Name, Places and Year\n",
        "user_name = input(\"Enter the user name: \")\n",
        "first_place = input(\"Enter the first place you would like to visit: \")\n",
        "second_place = input(\"Enter the second place you would like to visit: \")\n",
        "third_place = input(\"Enter the third place you would like to visit: \")\n",
        "year = input(\"Enter the year to visit: \")\n",
        "\n",
        "#Step 2: Print the user and the places to visit for the year using\n",
        "# f-string, sep = ',' and end = ' '\n",
        "print(f'\\nHello {user_name} and places to visit are {first_place}' , second_place, third_place, sep=', ', end=' ')\n",
        "print(f'in the year {year}')"
      ]
    },
    {
      "cell_type": "markdown",
      "source": [
        "## PROG 3: Compute Circumference and Area of Circle\n",
        "\n",
        "Write a Program to Compute Circumference and Area of a Circle in cm and cm<sup>2</sup> by taking the radius (r) of a circle in inch as a input\n",
        "\n",
        "> **Input =>** Radius of the Circle in Inch. For e.g. 5\n",
        "\n",
        "> **Output =>** Circumference of the Circle is 31.42 cm and Area of the Cricle is 78.57 sqcm\n",
        "\n",
        "> **Hint =>**\n",
        "- 1: Convert Inch to CM using 1 inch = 2.54 centimeters\n",
        "- 2: Perimeter of a circle is 2πr and Area of Circle is πr<sup>2</sup>\n",
        "- 3: Use Constant PI as in `PI = 22/7`\n",
        "- 4: Use `**` Operator to compute radius<sup>2</sup> as in `area = PI * (radius ** 2)`\n",
        "- 5: Note: `(radius ** 2)` is enclosed in bracket indicating that radius<sup>2</sup> need to be computed first and then multiplied with PI. This is part of **Operator Precedence**\n",
        "\n"
      ],
      "metadata": {
        "id": "DeqMs0mXMYhu"
      }
    },
    {
      "cell_type": "markdown",
      "source": [
        "### PROG 3.1: Compute Circumference and Area of Circle"
      ],
      "metadata": {
        "id": "7izEHqQJe7FG"
      }
    },
    {
      "cell_type": "code",
      "source": [
        "# PROG 3.1: Compute Circumference and Area of Circle\n",
        "\n",
        "#Step 1: Define python constant for PI\n",
        "PI = 22/7\n",
        "\n",
        "#Step 2: Take input for radius of the circle in inches\n",
        "radius_inch= float(input(\"Enter the radius of the circle in inches: \"))\n",
        "\n",
        "#Step 3: Convert from inch to cm by   using 1 in = 2.54cm\n",
        "radius_cm = radius_inch *2.54\n",
        "\n",
        "#Step 4: Compute circumference and area in cm and sqcm. Here we use\n",
        "# operator precedence PEMDAS to (radius ** 2) first\n",
        "Circumference_cm = 2 * PI *radius_cm\n",
        "area_square_cm = PI * (radius_cm **2)\n",
        "\n",
        "#Step 5: Print the radius with new line seperator\n",
        "print(f\"\\nCircumference of the circle is {Circumference_cm} cm and\",\n",
        "      f\"Area of the circle is {area_square_cm} sqcm\", sep='\\n')"
      ],
      "metadata": {
        "colab": {
          "base_uri": "https://localhost:8080/"
        },
        "id": "YGTZCQWsJsTL",
        "outputId": "76f05349-3f75-4f84-f856-95830334e4ab"
      },
      "execution_count": null,
      "outputs": [
        {
          "output_type": "stream",
          "name": "stdout",
          "text": [
            "Enter the radius of the circle in inches: 5\n",
            "\n",
            "Circumference of the circle is 79.82857142857142 cm and\n",
            "Area of the circle is 506.91142857142853 sqcm\n"
          ]
        }
      ]
    },
    {
      "cell_type": "markdown",
      "source": [
        "### PROG 3.2: Compute with Python Format Specifier"
      ],
      "metadata": {
        "id": "Zza4zLCnfBqE"
      }
    },
    {
      "cell_type": "code",
      "source": [
        "# PROG 3.2: Compute Circumference and Area of Circle with\n",
        "# Python Format Specifier for floating-point number\n",
        "\n",
        "#Step 1: Define python constant for PI\n",
        "PI = 22/7\n",
        "\n",
        "#Step 2: Take input for radius of the circle in inches\n",
        "radius_inch= float(input(\"Enter the radius of the circle in inches: \"))\n",
        "\n",
        "#Step 3: Convert from inch to cm by   using 1 in = 2.54cm\n",
        "radius_cm = radius_inch *2.54\n",
        "\n",
        "#Step 4: Compute circumference and area in cm and sqcm. Here we use\n",
        "# operator precedence PEMDAS to (radius ** 2) first\n",
        "Circumference_cm = 2 * PI *radius_cm\n",
        "area_square_cm = PI * (radius_cm **2)\n",
        "\n",
        "#Step 5: Print the radius with new line seperator\n",
        "print(f\"\\nCircumference of the circle is {Circumference_cm:.2f} cm and\",\n",
        "      f\"Area of the circle is {area_square_cm:.2f} sqcm\", sep='\\n')"
      ],
      "metadata": {
        "colab": {
          "base_uri": "https://localhost:8080/"
        },
        "id": "RSgsX74ofCZK",
        "outputId": "6761f747-b754-413b-b729-4939db201fc6"
      },
      "execution_count": null,
      "outputs": [
        {
          "output_type": "stream",
          "name": "stdout",
          "text": [
            "Enter the radius of the circle in inches: 5\n",
            "\n",
            "Circumference of the circle is 79.83 cm and\n",
            "Area of the circle is 506.91 sqcm\n"
          ]
        }
      ]
    },
    {
      "cell_type": "markdown",
      "source": [
        "## PROG 4: Find Generation\n",
        "\n",
        "Write a Program to take birth year as input and find the generation the user belongs.\n",
        "\n",
        "> **Input =>** Enter Birth Year for e.g. 1970\n",
        "\n",
        "> **Output =>**\n",
        "```\n",
        "Birth Year is 1970\n",
        "Is Baby Boomer: False\n",
        "Is Gen X: True\n",
        "Is Millennial: False\n",
        "Is Gen Z: False\n",
        "Is Gen Alpha: False\n",
        "\n",
        "> **Hint =>**\n",
        "- 1: Python Shorthand If Else\n",
        "- 2: The Generation is based on the year as shown below  \n",
        "Baby Boomers: Born 1946-1964.\n",
        "<br>Generation X: Born 1965-1980.\n",
        "<br>Millennials: Born 1981-1996.\n",
        "<br>Generation Z: Born 1997-2012.\n",
        "<br>Generation Alpha: Born 2013-2025.\n"
      ],
      "metadata": {
        "id": "d-yCyCoOlCAr"
      }
    },
    {
      "cell_type": "code",
      "source": [
        "# PROG 4: Find Generation\n",
        "\n",
        "#Step 1: Enter the birth year\n",
        "birth_year = int(input(\"Enter the Birth year: \"))\n",
        "\n",
        "#step 2: Print the generation using python shorthand condition\n",
        "print(f'\\nBirth Year if {birth_year}',\n",
        "      f'Is Baby Boomer: {birth_year > 1946 or birth_year == 1946 and birth_year < 1964}',\n",
        "      f'Is Gen X: {birth_year>= 1965 and birth_year< 1980}',\n",
        "      f'Is Millennial: {birth_year>= 1981 and birth_year < 1996}',\n",
        "      f'Is Gen Z: {birth_year>= 1997 and birth_year< 2012}',\n",
        "      f'Is Gen Alpha: {birth_year >= 2013 and birth_year < 2025}', sep = '\\n')"
      ],
      "metadata": {
        "colab": {
          "base_uri": "https://localhost:8080/"
        },
        "id": "3shXpgC6osTk",
        "outputId": "16c991b2-436d-4f06-939e-141b612aeef6"
      },
      "execution_count": null,
      "outputs": [
        {
          "output_type": "stream",
          "name": "stdout",
          "text": [
            "Enter the Birth year: 1946\n",
            "\n",
            "Birth Year if 1946\n",
            "Is Baby Boomer: True\n",
            "Is Gen X: False\n",
            "Is Millennial: False\n",
            "Is Gen Z: False\n",
            "Is Gen Alpha: False\n"
          ]
        }
      ]
    },
    {
      "cell_type": "markdown",
      "source": [
        "## PROG 5: Time Conversion\n",
        "\n",
        "Take input of time duration for an activity in seconds. Convert the same seconds in hours , minutes and seconds. Print in HH:MM:SS format.\n",
        "\n",
        "> **Input =>** Enter Number of Seconds for e.g. 3800\n",
        "\n",
        "> **Output =>** `Time duration of 3800 seconds in HH:MM:SS format is 01:03:20`\n",
        "\n",
        "> **Hint =>**\n",
        "1. Use 1 hour = 3600 seconds\n",
        "2. Use Floor Division Operator `//` and Modulo `%`\n",
        "3. In the code `hour = 3800 // 3600` results in 1 hour\n",
        "4. In the code `minutes = (3800 % 3600) // 60` results on 3 minutes\n",
        "5. In the code `seconds = 3800 % 60` results in 20 seconds\n",
        "6. Print the Result HH:MM:SS format. For this we use  Python String Format Specifier for Integers `:02d` to put leading zeors if it is a single digit number. For e.g. 1 is represented as 01"
      ],
      "metadata": {
        "id": "BzxKFC4ZJ07s"
      }
    },
    {
      "cell_type": "code",
      "source": [
        "# PROG 5: Time Conversion\n",
        "\n",
        "#Step 1: Take input for time duration in total_seconds\n",
        "total_seconds = int(input(\"Enter the time duration in seconds: \"))\n",
        "\n",
        "# Step 2: Convert seconds to hours, minutes, and seconds using floor division\n",
        "# and modulo operator\n",
        "hours = total_seconds// 3600\n",
        "minutes = (total_seconds % 3600) //60\n",
        "seconds = total_seconds % 60\n",
        "\n",
        "# Print the converted time duration\n",
        "print(f\"\\nTime duration of {total_seconds} seconds in HH:MM:SS format is\",\n",
        "      f\"{hours:02d}:{minutes:02d}:{seconds:02d}\")"
      ],
      "metadata": {
        "colab": {
          "base_uri": "https://localhost:8080/"
        },
        "id": "-qniwDS6KQ5c",
        "outputId": "0b52764b-4f41-4525-c348-247bb6b5240c"
      },
      "execution_count": null,
      "outputs": [
        {
          "output_type": "stream",
          "name": "stdout",
          "text": [
            "Enter the time duration in seconds: 3800\n",
            "\n",
            "Time duration of 3800 seconds in HH:MM:SS format is 01:03:20\n"
          ]
        }
      ]
    },
    {
      "cell_type": "markdown",
      "source": [
        "## PROG 6: Bill Generation App\n",
        "\n",
        "A wholesale fruit seller wants to compute the total amount of money he would like to bill a customer. He sells Apples and Oranges. Since Apples are imported they attract a higher GST of 12% compared to Oranges which are procurred locally hence have a GST of 5%.\n",
        "\n",
        "For bill generation, the seller needs to capture the buyer name, price at which the seller is selling the apple and oranges for the quantity purchased by the buyer.\n",
        "\n",
        "> **Input and Output =>** Refer the sample below\n",
        "\n",
        "```\n",
        "Enter Buyer Name: Narayan\n",
        "Enter Apple price per kg: 200\n",
        "Enter Apple Quantity in kg: 10\n",
        "Enter Orange price per kg: 150\n",
        "Enter Orange Quantity in kg: 10\n",
        "\n",
        "Buyer Name: Narayan\n",
        "--------------------------------------------------------------------------------\n",
        "| Item Code  | Price/Unit |  # unit  |   Price    |    GST     | Total w/ GST |\n",
        "--------------------------------------------------------------------------------\n",
        "|   Apple    |   Rs 200   |   10.0   | Rs 2000.0  |  Rs 240.0  |  Rs 2240.0   |\n",
        "|   Orange   |   Rs 150   |   10.0   | Rs 1500.0  |  Rs 75.0   |  Rs 1575.0   |\n",
        "--------------------------------------------------------------------------------\n",
        "Total                                                              ₹ 3815.00\n",
        "Total Round                                                        ₹ 3815.00\n",
        "--------------------------------------------------------------------------------\n",
        "\n",
        "```\n",
        "\n",
        "\n"
      ],
      "metadata": {
        "id": "aqvcr8jicsWJ"
      }
    },
    {
      "cell_type": "code",
      "source": [
        "## Prog 6: Bill Generation App\n",
        "\n",
        "# Step 1: Setting constants for fruits apple GST as 12% and orange GST as 5%\n",
        "APPLE_GST = 0.12 #12% GST\n",
        "ORANGE_GST = 0.05 # 5% GST\n",
        "\n",
        "# Step 2: Enter Buyer Name, Price for Apple and Orange per kg, and quality of\n",
        "# Apples and Oranges in kg purchased by the buyer\n",
        "buyer_name = input(\"Enter the Buyer Name: \")\n",
        "apple_price_kg= int(input('Enter Apple price per kg: '))\n",
        "apple_quantity_kg= float(input('Enter apple quantity in kg: '))\n",
        "orange_price_kg= int(input('Enter orange price per kg: '))\n",
        "orange_quantity_kg= float(input('Enter orange quantity in kg: '))\n",
        "\n",
        "#Step 3: Calculate Total price of Apple and Orange\n",
        "total_price_apple= apple_price_kg * apple_quantity_kg\n",
        "total_price_orange= orange_price_kg * orange_quantity_kg\n",
        "\n",
        "#Step 4: Calculate the GST amount for apple and orange\n",
        "total_gst_apple = total_price_apple * APPLE_GST\n",
        "total_gst_orange = total_price_orange * ORANGE_GST\n",
        "\n",
        "#Step 5: Calculate the total billing amount for apple and oranges inclusive of GST\n",
        "total_billing_apple = total_price_apple + total_gst_apple\n",
        "total_billing_orange = total_price_orange + total_gst_orange\n",
        "\n",
        "#Step 5: Calculate total amount to be paid by the buyer and rounf it\n",
        "total_amount = total_billing_apple + total_billing_orange\n",
        "total_round_amount = round(total_amount)\n",
        "\n",
        "#Print the bill\n",
        "print(f'\\nBuyer Name: {buyer_name}')\n",
        "print(f\"{'-' * 74}\")\n",
        "print(f\"| {'Item Code':^10} |{'Price/Unit':^10} | {'# Unit':^5}\",\n",
        "      f\"| {'Price':^5} | {'GST':^10} | {'Total w/ GST':^10} |\")\n",
        "print(f\"{'-' * 74}\")\n",
        "print(f\"| {'Apple':^10} | {'Rs '+str(apple_price_kg):^10} | {apple_quantity_kg:^5}\",\n",
        "      f\"| {'Rs '+str(total_price_apple):^5} | {'Rs '+str(total_gst_apple):^10}\",\n",
        "      f\"| {'Rs '+str(total_billing_apple):^10} |\");\n",
        "print(f\"| {'Orange':^10} | {'Rs '+str(orange_price_kg):^10} | {orange_quantity_kg:^5}\",\n",
        "      f\"| {'Rs '+str(total_price_orange):^5} | {'Rs '+str(total_gst_orange):^10}\",\n",
        "      f\"| {'Rs '+str(total_billing_orange):^10} |\");\n",
        "print(f\"{'-'* 74}\")\n",
        "print(f\"Total {' ' * 54} \\u20B9 {total_amount:.2f}\")\n",
        "print(f\"Total Round {' '* 48} \\u20B9 {total_round_amount:.2f}\")\n",
        "print(f\"{'-' *74}\")\n"
      ],
      "metadata": {
        "colab": {
          "base_uri": "https://localhost:8080/"
        },
        "id": "s0O6IDWTk9bu",
        "outputId": "ab3fc534-80df-4462-9c5e-483d492c8965"
      },
      "execution_count": null,
      "outputs": [
        {
          "output_type": "stream",
          "name": "stdout",
          "text": [
            "Enter the Buyer Name: Narayan\n",
            "Enter Apple price per kg: 200\n",
            "Enter apple quantity in kg: 5\n",
            "Enter orange price per kg: 150\n",
            "Enter orange quantity in kg: 10\n",
            "\n",
            "Buyer Name: Narayan\n",
            "--------------------------------------------------------------------------\n",
            "| Item Code  |Price/Unit | # Unit | Price |    GST     | Total w/ GST |\n",
            "--------------------------------------------------------------------------\n",
            "|   Apple    |   Rs 200   |  5.0  | Rs 1000.0 |  Rs 120.0  | Rs 1120.0  |\n",
            "|   Orange   |   Rs 150   | 10.0  | Rs 1500.0 |  Rs 75.0   | Rs 1575.0  |\n",
            "--------------------------------------------------------------------------\n",
            "Total                                                        ₹ 2695.00\n",
            "Total Round                                                  ₹ 2695.00\n",
            "--------------------------------------------------------------------------\n"
          ]
        }
      ]
    },
    {
      "cell_type": "markdown",
      "source": [
        "## PROG 7: School Report App\n",
        "\n",
        "**School Result:** For a school - “New School Of Learning '', create a program where individual results of each student of the class XI are generated and also a summary of the class is created.  \n",
        "\n",
        "Get 3 student names\n",
        "For each student, get physics, chemistry and mathematics marks  out of 50.\n",
        "Publish the results on screen for all of the  students . Result should have School name, Student name and Class Name in the heading.\n",
        "\n",
        "Then in tabular manner print subject, marks obtained, % of marks\n",
        "Also total marks obtained and total percentage at the end of table.\n",
        "\n",
        "For school summary - generate class average of each subject and overall average\n",
        "\n",
        "> **Output =>**\n",
        "\n",
        "```\n",
        "Enter name of student 1: Narayan\n",
        "Enter Physics marks out of 50 for student 1: 35\n",
        "Enter Chemistry marks out of 50 for student 1: 45\n",
        "Enter Mathematics marks out of 50 for student 1: 30\n",
        "\n",
        "New School Of Learning - Class XI - Narayan\n",
        "------------------------------------------------------------------------\n",
        "|     Subject     |   Total Marks   | Marks Obtained  |   Percentage    |\n",
        "------------------------------------------------------------------------\n",
        "|     Physics     |       50        |       35        |      70.0       |\n",
        "|    Chemistry    |       50        |       45        |      90.0       |\n",
        "|   Mathematics   |       50        |       30        |      60.0       |\n",
        "------------------------------------------------------------------------\n",
        "|      Total      |       150       |       110       |      73.33      |\n",
        "------------------------------------------------------------------------\n",
        "\n",
        "\n",
        "Enter name of student 2: Karthik\n",
        "Enter Physics marks out of 50 for student 2: 40\n",
        "Enter Chemistry marks out of 50 for student 2: 40\n",
        "Enter Mathematics marks out of 50 for student 2: 45\n",
        "\n",
        "New School Of Learning - Class XI - Karthik\n",
        "------------------------------------------------------------------------\n",
        "|     Subject     |   Total Marks   | Marks Obtained  |   Percentage    |\n",
        "------------------------------------------------------------------------\n",
        "|     Physics     |       50        |       40        |      80.0       |\n",
        "|    Chemistry    |       50        |       40        |      80.0       |\n",
        "|   Mathematics   |       50        |       45        |      90.0       |\n",
        "------------------------------------------------------------------------\n",
        "|      Total      |       150       |       125       |      83.33      |\n",
        "------------------------------------------------------------------------\n",
        "\n",
        "\n",
        "Enter name of student 3: Vidya\n",
        "Enter Physics marks out of 50 for student 3: 40\n",
        "Enter Chemistry marks out of 50 for student 3: 45\n",
        "Enter Mathematics marks out of 50 for student 3: 40\n",
        "\n",
        "New School Of Learning - Class XI - Vidya\n",
        "------------------------------------------------------------------------\n",
        "|     Subject     |   Total Marks   | Marks Obtained  |   Percentage    |\n",
        "------------------------------------------------------------------------\n",
        "|     Physics     |       50        |       40        |      80.0       |\n",
        "|    Chemistry    |       50        |       45        |      90.0       |\n",
        "|   Mathematics   |       50        |       40        |      80.0       |\n",
        "------------------------------------------------------------------------\n",
        "|      Total      |       150       |       125       |      83.33      |\n",
        "------------------------------------------------------------------------\n",
        "\n",
        "\n",
        "\n",
        "Class Average And Percentage for Each Subject:\n",
        "Physics Average is 38.33 and Percentage is 76.67%\n",
        "Chemistry Average is 43.33 and Percentage is 86.67%\n",
        "Mathematics Average is 38.33 and Percentage is 76.67%\n",
        "Overall Percentage: 80.00%\n",
        "```\n"
      ],
      "metadata": {
        "id": "uwaIyVhGceLw"
      }
    },
    {
      "cell_type": "markdown",
      "source": [
        "**CODIN STEPS**\n",
        "\n",
        "> **Step 1: -** Specifying Constants for School, Class, subjects marks, total, and number of students\n",
        "\n",
        "> **Step 2: -** Get student name, physics, chemistry and maths marks for Student 1 and Calculate total marks for student 1\n",
        "\n",
        "> **Step 3: -** Calculating physics, chemistry and maths percentage for student 1\n",
        "\n",
        "> **Step 4: -** Print results for student 1\n",
        "\n",
        "> **TEST CASE 1: -**\n",
        "\n",
        "```\n",
        "Enter name of student 1: Narayan\n",
        "Enter Physics marks out of 50 for student 1: 35\n",
        "Enter Chemistry marks out of 50 for student 1: 45\n",
        "Enter Mathematics marks out of 50 for student 1: 30\n",
        "\n",
        "New School Of Learning - Class XI - Narayan\n",
        "------------------------------------------------------------------------\n",
        "|     Subject     |   Total Marks   | Marks Obtained  |   Percentage    |\n",
        "------------------------------------------------------------------------\n",
        "|     Physics     |       50        |       35        |      70.0       |\n",
        "|    Chemistry    |       50        |       45        |      90.0       |\n",
        "|   Mathematics   |       50        |       30        |      60.0       |\n",
        "------------------------------------------------------------------------\n",
        "|      Total      |       150       |       110       |      73.33      |\n",
        "------------------------------------------------------------------------\n",
        "\n",
        "```\n",
        "\n",
        "> **Step 5: -** Get student name, physics, chemistry and maths marks for Student 2 and Calculate total marks for student 2\n",
        "\n",
        "> **Step 6: -** Calculating physics, chemistry and maths percentage for student 2\n",
        "\n",
        "> **Step 7: -** Print results for student 2\n",
        "\n",
        "> **TEST CASE 2: -**\n",
        "\n",
        "```\n",
        "\n",
        "Enter name of student 2: Karthik\n",
        "Enter Physics marks out of 50 for student 2: 40\n",
        "Enter Chemistry marks out of 50 for student 2: 40\n",
        "Enter Mathematics marks out of 50 for student 2: 45\n",
        "\n",
        "New School Of Learning - Class XI - Karthik\n",
        "------------------------------------------------------------------------\n",
        "|     Subject     |   Total Marks   | Marks Obtained  |   Percentage    |\n",
        "------------------------------------------------------------------------\n",
        "|     Physics     |       50        |       40        |      80.0       |\n",
        "|    Chemistry    |       50        |       40        |      80.0       |\n",
        "|   Mathematics   |       50        |       45        |      90.0       |\n",
        "------------------------------------------------------------------------\n",
        "|      Total      |       150       |       125       |      83.33      |\n",
        "------------------------------------------------------------------------\n",
        "\n",
        "\n",
        "```\n",
        "\n",
        "> **Step 8: -** Get student name, physics, chemistry and maths marks for Student 3 and Calculate total marks for student 3\n",
        "\n",
        "> **Step 9: -** Calculating physics, chemistry and maths percentage for student 3\n",
        "\n",
        "> **Step 10: -** Print results for student 3\n",
        "\n",
        "> **TEST CASE 3: -**\n",
        "\n",
        "```\n",
        "\n",
        "Enter name of student 3: Vidya\n",
        "Enter Physics marks out of 50 for student 3: 40\n",
        "Enter Chemistry marks out of 50 for student 3: 45\n",
        "Enter Mathematics marks out of 50 for student 3: 40\n",
        "\n",
        "New School Of Learning - Class XI - Vidya\n",
        "------------------------------------------------------------------------\n",
        "|     Subject     |   Total Marks   | Marks Obtained  |   Percentage    |\n",
        "------------------------------------------------------------------------\n",
        "|     Physics     |       50        |       40        |      80.0       |\n",
        "|    Chemistry    |       50        |       45        |      90.0       |\n",
        "|   Mathematics   |       50        |       40        |      80.0       |\n",
        "------------------------------------------------------------------------\n",
        "|      Total      |       150       |       125       |      83.33      |\n",
        "------------------------------------------------------------------------\n",
        "\n",
        "```\n",
        "\n",
        "> **Step 11: -** Calculate total marks obtained by all students in each subject\n",
        "\n",
        "> **Step 12: -** Calculate class averages for each subject\n",
        "\n",
        "> **Step 13: -** Calculate the class average percentage for each subject\n",
        "\n",
        "> **Step 14: -** Calculate total marks obtained by all students\n",
        "\n",
        "> **Step 15: -** Calculate overall percentage\n",
        "\n",
        "> **Step 16: -** Print the class average percentage for each subject\n",
        "\n",
        "> **FINAL OUTPUT: -**\n",
        "\n",
        "```\n",
        "Class Average And Percentage for Each Subject:\n",
        "Physics Average is 38.33 and Percentage is 76.67%\n",
        "Chemistry Average is 43.33 and Percentage is 86.67%\n",
        "Mathematics Average is 38.33 and Percentage is 76.67%\n",
        "Overall Percentage: 80.00%\n",
        "\n",
        "```\n"
      ],
      "metadata": {
        "id": "efKnrDwlz1fZ"
      }
    },
    {
      "cell_type": "code",
      "source": [
        "# PROG 7: School Report App\n",
        "\n",
        "# Step 1: Specifying Constants for School, Class, Subjects marks, total, and number of students\n",
        "\n",
        "SCHOOL_NAME = \"New School of Learning\"\n",
        "CLASS_NAME = \"Class XI\"\n",
        "TOTAL_SUBJECT_MARKS = 50\n",
        "TOTAL_MARKS = TOTAL_SUBJECT_MARKS*3\n",
        "NUMBER_STUDENTS = 3\n",
        "\n",
        "# Step 2: Get student name, physics, chemistry and maths marks for student 1 and\n",
        "# Calculate total marks for student 1\n",
        "student1 = input(\"Enter the name of student 1: \")\n",
        "student1_phys_marks = int(input(\"Enter Physics marks out of 50 for student 1: \"))\n",
        "student1_chem_marks = int(input(\"Enter Chemistry marks out of 50 for student 1: \"))\n",
        "student1_math_marks = int(input(\"Enter Maths marks out of 50 for student 1: \"))\n",
        "total_student1_marks = student1_phys_marks + student1_chem_marks + student1_math_marks\n",
        "\n",
        "# Step 3: Calculating physics, chemistry and maths percentage for student 1\n",
        "student1_phys_perc = round((student1_phys_marks / TOTAL_SUBJECT_MARKS) *100,2)\n",
        "student1_chem_perc = round((student1_chem_marks / TOTAL_SUBJECT_MARKS) *100,2)\n",
        "student1_math_perc = round((student1_math_marks / TOTAL_SUBJECT_MARKS) *100,2)\n",
        "\n",
        "# Step 4: Print results for student 1\n",
        "print(f\"\\n{SCHOOL_NAME} - {CLASS_NAME} - {student1}\")\n",
        "print(f\"{'-' * 72}\")\n",
        "print(f\"| {'Subject':^15} | {'Total Marks': ^15} | {'MArks Obtained':^15} | {'Percentage':^15}\")\n",
        "print(f\"{'-' * 72}\")\n",
        "print(f\"| {'Physics':^15} | {TOTAL_SUBJECT_MARKS:^15} | {student1_phys_marks:^15}\",\n",
        "      f\"| {student1_phys_perc:^15} |\")\n",
        "print(f\"| {'Chemistry':^15} | {TOTAL_SUBJECT_MARKS:^15} | {student1_chem_marks:^15}\",\n",
        "      f\"| {student1_chem_perc:^15} |\")\n",
        "print(f\"| {'Maths':^15} | {TOTAL_SUBJECT_MARKS:^15} | {student1_math_marks:^15}\",\n",
        "      f\"| {student1_math_perc:^15} |\")\n",
        "print(f\"{'-' * 72}\")\n",
        "print(f\"| {'Total':^15} | {TOTAL_MARKS:^15} | {total_student1_marks:^15}\",\n",
        "      f\"| {round((total_student1_marks /TOTAL_MARKS) *100, 2):^15} |\")\n",
        "print(f\"{'-' * 72}\")\n",
        "\n",
        "# Step 5: Get input and calculate total marks for student 2\n",
        "student2 = input(\"Enter the name of student 2: \")\n",
        "student2_phys_marks = int(input(\"Enter Physics marks out of 50 for student 2: \"))\n",
        "student2_chem_marks = int(input(\"Enter Chemistry marks out of 50 for student 2: \"))\n",
        "student2_math_marks = int(input(\"Enter Maths marks out of 50 for student 2: \"))\n",
        "total_student2_marks = student2_phys_marks + student2_chem_marks + student2_math_marks\n",
        "\n",
        "# Step 6: Calculating physics, chemistry and maths percentage for student 2\n",
        "student2_phys_perc = round((student2_phys_marks / TOTAL_SUBJECT_MARKS) *100,2)\n",
        "student2_chem_perc = round((student2_chem_marks / TOTAL_SUBJECT_MARKS) *100,2)\n",
        "student2_math_perc = round((student2_math_marks / TOTAL_SUBJECT_MARKS) *100,2)\n",
        "\n",
        "# Step 7: Print results for student 2\n",
        "print(f\"\\n{SCHOOL_NAME} - {CLASS_NAME} - {student2}\")\n",
        "print(f\"{'-' * 72}\")\n",
        "print(f\"| {'Subject':^15} | {'Total Marks': ^15} | {'MArks Obtained':^15} | {'Percentage':^15}\")\n",
        "print(f\"{'-' * 72}\")\n",
        "print(f\"| {'Physics':^15} | {TOTAL_SUBJECT_MARKS:^15} | {student2_phys_marks:^15}\",\n",
        "      f\"| {student2_phys_perc:^15} |\")\n",
        "print(f\"| {'Chemistry':^15} | {TOTAL_SUBJECT_MARKS:^15} | {student2_chem_marks:^15}\",\n",
        "      f\"| {student2_chem_perc:^15} |\")\n",
        "print(f\"| {'Maths':^15} | {TOTAL_SUBJECT_MARKS:^15} | {student2_math_marks:^15}\",\n",
        "      f\"| {student2_math_perc:^15} |\")\n",
        "print(f\"{'-' * 72}\")\n",
        "print(f\"| {'Total':^15} | {TOTAL_MARKS:^15} | {total_student2_marks:^15}\",\n",
        "      f\"| {round((total_student2_marks /TOTAL_MARKS) *100, 2):^15} |\")\n",
        "print(f\"{'-' * 72}\\n\\n\")\n",
        "\n",
        "# Step 8: Get input and calculate total marks for student 3\n",
        "student3 = input(\"Enter the name of student 3: \")\n",
        "student3_phys_marks = int(input(\"Enter Physics marks out of 50 for student 3: \"))\n",
        "student3_chem_marks = int(input(\"Enter Chemistry marks out of 50 for student 3: \"))\n",
        "student3_math_marks = int(input(\"Enter Maths marks out of 50 for student 3: \"))\n",
        "total_student3_marks = student3_phys_marks + student3_chem_marks + student3_math_marks\n",
        "\n",
        "# Step 9: Calculating physics, chemistry and maths percentage for student 3\n",
        "student3_phys_perc = round((student3_phys_marks / TOTAL_SUBJECT_MARKS) *100,2)\n",
        "student3_chem_perc = round((student3_chem_marks / TOTAL_SUBJECT_MARKS) *100,2)\n",
        "student3_math_perc = round((student3_math_marks / TOTAL_SUBJECT_MARKS) *100,2)\n",
        "\n",
        "# Step 10: Print results for student 3\n",
        "print(f\"\\n{SCHOOL_NAME} - {CLASS_NAME} - {student3}\")\n",
        "print(f\"{'-' * 72}\")\n",
        "print(f\"| {'Subject':^15} | {'Total Marks': ^15} | {'MArks Obtained':^15} | {'Percentage':^15}\")\n",
        "print(f\"{'-' * 72}\")\n",
        "print(f\"| {'Physics':^15} | {TOTAL_SUBJECT_MARKS:^15} | {student3_phys_marks:^15}\",\n",
        "      f\"| {student3_phys_perc:^15} |\")\n",
        "print(f\"| {'Chemistry':^15} | {TOTAL_SUBJECT_MARKS:^15} | {student3_chem_marks:^15}\",\n",
        "      f\"| {student3_chem_perc:^15} |\")\n",
        "print(f\"| {'Maths':^15} | {TOTAL_SUBJECT_MARKS:^15} | {student3_math_marks:^15}\",\n",
        "      f\"| {student3_math_perc:^15} |\")\n",
        "print(f\"{'-' * 72}\")\n",
        "print(f\"| {'Total':^15} | {TOTAL_MARKS:^15} | {total_student3_marks:^15}\",\n",
        "      f\"| {round((total_student3_marks /TOTAL_MARKS) *100, 2):^15} |\")\n",
        "print(f\"{'-' * 72}\\n\\n\")\n",
        "\n",
        "# Step 11: Calculate total marks obtained by all students in each subject\n",
        "total_phys_marks = student1_phys_marks + student2_phys_marks + student3_phys_marks\n",
        "total_chem_marks = student1_chem_marks + student2_chem_marks + student3_chem_marks\n",
        "total_math_marks = student1_math_marks + student2_math_marks + student3_math_marks\n",
        "\n",
        "# Step 12: Calculate class averages for each subject\n",
        "class_phys_avg = total_phys_marks / NUMBER_STUDENTS\n",
        "class_chem_avg = total_chem_marks / NUMBER_STUDENTS\n",
        "class_math_avg = total_math_marks / NUMBER_STUDENTS\n",
        "\n",
        "# Step 13: Calculate the class average percentage for each subject\n",
        "class_phys_perc = (class_phys_avg /TOTAL_SUBJECT_MARKS) * 100\n",
        "class_chem_perc = (class_chem_avg /TOTAL_SUBJECT_MARKS) * 100\n",
        "class_math_perc = (class_math_avg /TOTAL_SUBJECT_MARKS) * 100\n",
        "\n",
        "# Step 14: Calculate total marks obtained by all students\n",
        "total_student_marks = total_student1_marks + total_student2_marks + total_student3_marks\n",
        "\n",
        "# Step 15: Calculate overall percentage\n",
        "overall_perc = (total_student_marks / (NUMBER_STUDENTS * TOTAL_MARKS)) * 100\n",
        "\n",
        "# Step 16: Print the class average percentage for each subject\n",
        "print(\"\\nClass Average and Percentage for Each Subject:\")\n",
        "print(f\"Physics Average is {class_phys_avg:.2f} and Percentage is {class_phys_perc:.2f}%\")\n",
        "print(f\"Chemisrty Average is {class_chem_avg:.2f} and Percentage is {class_chem_perc:.2f}%\")\n",
        "print(f\"Maths Average is {class_math_avg:.2f} and Percentage is {class_math_perc:.2f}%\")\n",
        "print(f\"Overall Percentage: {overall_perc:.2f}%\")\n",
        "\n"
      ],
      "metadata": {
        "id": "OxdkzbpVciqx",
        "colab": {
          "base_uri": "https://localhost:8080/"
        },
        "outputId": "aa951bcb-3704-44a3-c134-60efbcbecb69"
      },
      "execution_count": null,
      "outputs": [
        {
          "output_type": "stream",
          "name": "stdout",
          "text": [
            "Enter the name of student 1: Narayan\n",
            "Enter Physics marks out of 50 for student 1: 35\n",
            "Enter Chemistry marks out of 50 for student 1: 45\n",
            "Enter Maths marks out of 50 for student 1: 30\n",
            "\n",
            "New School of Learning - Class XI - Narayan\n",
            "------------------------------------------------------------------------\n",
            "|     Subject     |   Total Marks   | MArks Obtained  |   Percentage   \n",
            "------------------------------------------------------------------------\n",
            "|     Physics     |       50        |       35        |      70.0       |\n",
            "|    Chemistry    |       50        |       45        |      90.0       |\n",
            "|      Maths      |       50        |       30        |      60.0       |\n",
            "------------------------------------------------------------------------\n",
            "|      Total      |       150       |       110       |      73.33      |\n",
            "------------------------------------------------------------------------\n",
            "Enter the name of student 2: Karthik\n",
            "Enter Physics marks out of 50 for student 2: 45\n",
            "Enter Chemistry marks out of 50 for student 2: 50\n",
            "Enter Maths marks out of 50 for student 2: 35\n",
            "\n",
            "New School of Learning - Class XI - Karthik\n",
            "------------------------------------------------------------------------\n",
            "|     Subject     |   Total Marks   | MArks Obtained  |   Percentage   \n",
            "------------------------------------------------------------------------\n",
            "|     Physics     |       50        |       45        |      90.0       |\n",
            "|    Chemistry    |       50        |       50        |      100.0      |\n",
            "|      Maths      |       50        |       35        |      70.0       |\n",
            "------------------------------------------------------------------------\n",
            "|      Total      |       150       |       130       |      86.67      |\n",
            "------------------------------------------------------------------------\n",
            "\n",
            "\n",
            "Enter the name of student 3: Vidya\n",
            "Enter Physics marks out of 50 for student 3: 30\n",
            "Enter Chemistry marks out of 50 for student 3: 40\n",
            "Enter Maths marks out of 50 for student 3: 50\n",
            "\n",
            "New School of Learning - Class XI - Vidya\n",
            "------------------------------------------------------------------------\n",
            "|     Subject     |   Total Marks   | MArks Obtained  |   Percentage   \n",
            "------------------------------------------------------------------------\n",
            "|     Physics     |       50        |       30        |      60.0       |\n",
            "|    Chemistry    |       50        |       40        |      80.0       |\n",
            "|      Maths      |       50        |       50        |      100.0      |\n",
            "------------------------------------------------------------------------\n",
            "|      Total      |       150       |       120       |      80.0       |\n",
            "------------------------------------------------------------------------\n",
            "\n",
            "\n",
            "\n",
            "Class Average and Percentage for Each Subject:\n",
            "Physics Average is 36.67 and Percentage is 73.33%\n",
            "Chemisrty Average is 45.00 and Percentage is 90.00%\n",
            "Maths Average is 38.33 and Percentage is 76.67%\n",
            "Overall Percentage: 80.00%\n"
          ]
        }
      ]
    },
    {
      "cell_type": "markdown",
      "source": [
        "# Day 02 Python Standard IO Cheet Sheet\n",
        "\n",
        "**CODIN CONCEPTS**\n",
        "\n",
        "> **1: Standard IO (stdio) -** stdio stands for Standard Input and Output.\n",
        "\n",
        "> **2: Formatted string literal, or f-string -**\n",
        "- An **f-string** looks very much like a typical Python string except that it’s prepended by the character `f''` or `F''`\n",
        "- The magic of f-strings is that you can embed Python expressions directly inside them by using curly braces `{}`.\n",
        "- The expression is evaluated and converted to string representation, and the result is interpolated into the original string in that location\n",
        "\n",
        "> **3: Python Data Types -** Data types define the kind of data that can be stored in memory for a variable. In Python Data Types are implicitly assigned. For Python all built-in data types belongs to Python class. They can be categorized as either\n",
        "- **Primitive Data Types -** int, float, str, bool\n",
        "- **Derived Data Types -** list, dict, set, tuple\n",
        "\n",
        "- **4: Python Explicit Type Conversion -** Type conversion is converting from one data type to another. Explicit type conversion is achieved through Python's built-in functions such as `int()`, `float()`, and `str()`.\n",
        "\n",
        "> **5: Python Constant -** Constants are types of variables whose values cannot be altered or changed after initialization. These values are universally proven to be true and they cannot be changed over time. e.g. `PI = 22/7`\n",
        "- Naming Convention to define Constant is all caps\n",
        "- Python constants are declared and initialized in the beginning of the program as global or preferably in different modules/files.\n",
        "\n",
        "> **6: Python Format Specifier -**\n",
        "- Formatting float variables as string with Format Specifier expression like `{number:.2f}`.\n",
        "- Formatting integer variables as string with Format Specifier expression like `{number:02d}`.\n",
        "\n",
        "> **7: Python Operator -** Operators are special symbols that perform operations on variables and values. They are\n",
        "1. Arithmetic Operators like Add is `+`, Subtract is `-`, Multiply is `*`, Power is `**`...\n",
        "2. Assignment Operator `=` used in assigning value to a variable\n",
        "3. Comparison Operator to compare 2 values like `==`, `!=`, `>=` ...\n",
        "4. Logical Operator used in expression `and`, `or`, and `not`\n",
        "5. Bitwise operators for bit operations `&`, `|`,...\n",
        "6. Special Operators for memory comparison like `is` & `is not`\n",
        "\n",
        "> **8: Python Operator Precedence -** In Python, the order of operations follows the same principles as PEMDAS.\n",
        "- PEMDAS is an acronym that stands for “Parentheses, Exponents, Multiplication and Division, and Addition and Subtraction”\n",
        "- That is, expressions inside parentheses are evaluated first, followed by exponents, then multiplication and division (from left to right), and finally addition and subtraction (from left to right).\n",
        "\n",
        "> **9: Conditional Operation -** The conditional operation simply allows testing a condition in a single line replacing the multiline if-else making the code compact. It predominantly uses Comparison Operator and Logical Operators\n",
        "\n",
        "> **10: Python Shorthand If Else -** If you have only one condition to execute, one for if, and one for else, you can put it all on the same line using Python Shorthand as in `gender == 'male' and 'his' or 'her'`\n",
        "- **Comparison Operator -** Please note the use of Comparison Operator `==` to check the gender is 'male'\n",
        "\n",
        "> **11: String Formatting Expression -** We use the followimg String formatting expressions\n",
        "1. `{'Item Code':^10}` is a string formatting expression used to center-align the text \"Item Code\" within a field width of 10 characters. Here's what each part of the expression means:\n",
        "2. `{'-' * 74}` is used to repeat the character `'-'` 74 times. This is because of the multiplier operator `*`\n",
        "3. `{' ' * 54}` is used to repeat space character `' '` 54 times due to operator `*`\n",
        "\n",
        "\n"
      ],
      "metadata": {
        "id": "umsGwD8UQNhU"
      }
    },
    {
      "cell_type": "markdown",
      "source": [
        "# Day 02 Python Standard IO Self Practices"
      ],
      "metadata": {
        "id": "3adP2VX6n8VE"
      }
    },
    {
      "cell_type": "markdown",
      "source": [
        "## PROG 1: Print 3 Names\n",
        "\n",
        "Write a program that takes three names as input and prints out Hi to friends with the names in the reverse of the order given. For example, it gives \"Hi Anthony, Akbar and Amar.\".\n",
        "\n",
        "> **Input =>** Amar, Akbar, Anthony\n",
        "\n",
        "> **Output =>** Hi Anthony, Akbar and Amar.\n",
        "\n",
        "\n"
      ],
      "metadata": {
        "id": "9Nv3003hzNfi"
      }
    },
    {
      "cell_type": "code",
      "source": [
        "# prompt: Write a program that takes three names as input and prints out Hi to friends with the names in the reverse of the order given. For example, it gives \"Hi Anthony, Akbar and Amar.\".\n",
        "\n",
        "name1 = input(\"Enter name 1: \")\n",
        "name2 = input(\"Enter name 2: \")\n",
        "name3 = input(\"Enter name 3: \")\n",
        "\n",
        "print(f\"Hi {name3}, {name2} and {name1}.\")\n"
      ],
      "metadata": {
        "colab": {
          "base_uri": "https://localhost:8080/"
        },
        "id": "2WjZ8EfFHjA0",
        "outputId": "1b8199c4-f8c0-4a3d-fd48-e4a38c0a883b"
      },
      "execution_count": null,
      "outputs": [
        {
          "output_type": "stream",
          "name": "stdout",
          "text": [
            "Enter name 1: Amar\n",
            "Enter name 2: Akbar\n",
            "Enter name 3: Anthony\n",
            "Hi Anthony, Akbar and Amar.\n"
          ]
        }
      ]
    },
    {
      "cell_type": "markdown",
      "source": [
        "## PROG 2: Favorite Places\n",
        "\n",
        "Get the input of 5 places you would like to visit . Print these places with a comma and a space in between the places. Also print the Five Places with a Gap of 2 Lines\n",
        "\n",
        "> **Input =>** Srinagar, Jabalpur, Jaisalmer, Chidambaram, Shillong\n",
        "\n",
        "> **Output # 1 =>** My Favorite Places are Srinagar, Jabalpur, Jaisalmer, Chidambaram, Shillong\n",
        "\n",
        "> **Output # 2 =>**\n",
        "My Favorite Places are\n",
        "<br>Srinagar\n",
        "<br><br>Jabalpur\n",
        "<br><br>Jaisalmer\n",
        "<br><br>Chidambaram\n",
        "<br><br>Shillong\n",
        "\n",
        "> **Hint =>**\n",
        "1. For Output 1 and 2 try with using print function parameter `sep = ', '` and sep = `'\\n\\n'`\n",
        "2. For Output 2 try with using print function parameter `end = '\\n\\n'`\n",
        "3. The String '\\n' indicates New Line"
      ],
      "metadata": {
        "id": "xtCy7Tw90KhC"
      }
    },
    {
      "cell_type": "code",
      "source": [
        "# Collect the places to visit\n",
        "print(f\"Enter the places you would like to visit\")\n",
        "place1 = input(\"Place 1: \")\n",
        "place2 = input(\"Place 2: \")\n",
        "place3 = input(\"Place 3: \")\n",
        "place4 = input(\"Place 4: \")\n",
        "place5 = input(\"Place 5: \")\n",
        "\n",
        "#Print the Places\n",
        "print(f\"My Favorite Places are {place1}\", place2, place3, place4, place5, sep = ',')\n",
        "print(f\"My Favorite Places are \\n{place1}\", place2, place3, place4, place5, sep = '\\n\\n')"
      ],
      "metadata": {
        "colab": {
          "base_uri": "https://localhost:8080/"
        },
        "id": "oVg3G20tIHKG",
        "outputId": "95321d09-c712-4a4f-807f-9de65630cef7"
      },
      "execution_count": null,
      "outputs": [
        {
          "output_type": "stream",
          "name": "stdout",
          "text": [
            "Enter the places you would like to visit\n",
            "Place 1: Srinagar\n",
            "Place 2: Jabalpur\n",
            "Place 3: Jaisalmer\n",
            "Place 4: Chidambaram\n",
            "Place 5: Shilong\n",
            "My Favorite Places are Srinagar,Jabalpur,Jaisalmer,Chidambaram,Shilong\n",
            "My Favorite Places are \n",
            "Srinagar\n",
            "\n",
            "Jabalpur\n",
            "\n",
            "Jaisalmer\n",
            "\n",
            "Chidambaram\n",
            "\n",
            "Shilong\n"
          ]
        }
      ]
    },
    {
      "cell_type": "markdown",
      "source": [
        "## PROG 3: Name Banner\n",
        "\n",
        "Write a Program to output your name as a Banner using 9 characters and 9 Rows of space and astrix. Similat to OOPS Banner program already solved in Assisted Practice For e.g. for OOPS\n",
        "\n",
        "> **Input =>** NONE\n",
        "\n",
        "> **Output =>**\n",
        "\n",
        "```\n",
        "   ***         ***      ******         *****\n",
        " **   **     **   **    **    **     **      \n",
        "**     **   **     **   **     **   **       \n",
        "**     **   **     **   **    **     **      \n",
        "**     **   **     **   ******         ***   \n",
        "**     **   **     **   **                **\n",
        "**     **   **     **   **                 **\n",
        " **   **     **   **    **                **\n",
        "   ***         ***      **           *****   \n",
        "```\n",
        "> **Hint =>**\n",
        "1. Use print function with 9 Characters of Space `' '` or `'*'` for each letter like the one demonstrated for OOPS i.e. O, O, P, S\n",
        "2. Use 9 Print Statements\n",
        "\n"
      ],
      "metadata": {
        "id": "_k2ft4XY9Wqt"
      }
    },
    {
      "cell_type": "code",
      "source": [
        "print('   ***** ',' ','*       *',' ','*********',' ','*         *',' ','    *    ',' ','*       *',' ','*********')\n",
        "print(' **      ',' ','*       *',' ','    *    ',' ','*         *',' ','  *   *  ',' ','* *     *',' ','    *    ')\n",
        "print('**       ',' ','*       *',' ','    *    ',' ','*         *',' ',' *     * ',' ','* *     *',' ','    *    ')\n",
        "print(' **      ',' ','*       *',' ','    *    ',' ','*         *',' ','*       *',' ','*  *    *',' ','    *    ')\n",
        "print('   ***   ',' ','*********',' ','    *    ',' ',' *       * ',' ','*********',' ','*  *    *',' ','    *    ')\n",
        "print('      ** ',' ','*       *',' ','    *    ',' ','  *     *  ',' ','*       *',' ','*   *   *',' ','    *    ')\n",
        "print('       **',' ','*       *',' ','    *    ',' ','   *   *   ',' ','*       *',' ','*   *   *',' ','    *    ')\n",
        "print('      ** ',' ','*       *',' ','    *    ',' ','    * *    ',' ','*       *',' ','*     * *',' ','    *    ')\n",
        "print(' *****   ',' ','*       *',' ','*********',' ','     *     ',' ','*       *',' ','*       *',' ','*********')"
      ],
      "metadata": {
        "colab": {
          "base_uri": "https://localhost:8080/"
        },
        "id": "zeKO48u8OyhC",
        "outputId": "9618ce20-3985-466e-c1cf-4ace63394a15"
      },
      "execution_count": null,
      "outputs": [
        {
          "output_type": "stream",
          "name": "stdout",
          "text": [
            "   *****    *       *   *********   *         *       *       *       *   *********\n",
            " **         *       *       *       *         *     *   *     * *     *       *    \n",
            "**          *       *       *       *         *    *     *    * *     *       *    \n",
            " **         *       *       *       *         *   *       *   *  *    *       *    \n",
            "   ***      *********       *        *       *    *********   *  *    *       *    \n",
            "      **    *       *       *         *     *     *       *   *   *   *       *    \n",
            "       **   *       *       *          *   *      *       *   *   *   *       *    \n",
            "      **    *       *       *           * *       *       *   *     * *       *    \n",
            " *****      *       *   *********        *        *       *   *       *   *********\n"
          ]
        }
      ]
    },
    {
      "cell_type": "markdown",
      "source": [
        "## PROG 4: Formatted String Literal\n",
        "\n",
        "Get the name and place of stay of your friend. Based on name determine his or her place of stay. Print the same in following sentence using formatted string concept:\n",
        "Name of my friend is <name> and his/her place of stay is  <place>.\n",
        "\n",
        "> **Input =>** Narayan, Mumbai\n",
        "\n",
        "> **Output =>** `Name of my friend is Narayan and his/her place of stay is Mumbai.`\n",
        "\n",
        "> **Hint =>**\n",
        "1. Use of Python Formatted String Literal (f-String)\n"
      ],
      "metadata": {
        "id": "snTjL1WC_vHq"
      }
    },
    {
      "cell_type": "code",
      "source": [
        "#Collect the name and place\n",
        "name= input(\"Enter the name: \")\n",
        "place = input(\"Enter the place: \")\n",
        "\n",
        "#Print the name and place\n",
        "print(f\"Name of my friend is {name} and his/her place of stay is {place}.\")\n",
        "\n",
        "\n"
      ],
      "metadata": {
        "colab": {
          "base_uri": "https://localhost:8080/"
        },
        "id": "ZEST2DAUrBWm",
        "outputId": "379a7913-1dc5-48a2-d0f3-2258c9030d98"
      },
      "execution_count": null,
      "outputs": [
        {
          "output_type": "stream",
          "name": "stdout",
          "text": [
            "Enter the name: Narayan\n",
            "Enter the place: Mumbai\n",
            "Name of my friend is Narayan and his/her place of stay is Mumbai.\n"
          ]
        }
      ]
    },
    {
      "cell_type": "markdown",
      "source": [
        "## PROG 5: Compute Square Root\n",
        "\n",
        "Write a Program to calculate the square root of a Number.\n",
        "\n",
        "> **Input =>** Enter a Number. For e.g. 4\n",
        "\n",
        "> **Output =>** `The square root of 4.00 is 2.00`\n",
        "\n",
        "> **Hint =>**\n",
        "1. Square Root of a Number is number<sup>0.5</sup> using `number ** 0.5`\n",
        "2. Print the Square Root with 2 decimal places using Python Format Specifier for floating-point number\n"
      ],
      "metadata": {
        "id": "I9jgI-w4Gjs-"
      }
    },
    {
      "cell_type": "code",
      "source": [
        "number = int(input(\"Enter the number: \"))\n",
        "square_root= number**0.5\n",
        "print(f\"The square root of {number} is {square_root:.2f}\")"
      ],
      "metadata": {
        "colab": {
          "base_uri": "https://localhost:8080/"
        },
        "id": "9Ed8usO7s7Xx",
        "outputId": "a2622435-5e72-45bb-ae96-e5e6a47fc3ca"
      },
      "execution_count": null,
      "outputs": [
        {
          "output_type": "stream",
          "name": "stdout",
          "text": [
            "Enter the number: 4\n",
            "The square root of 4 is 2.00\n"
          ]
        }
      ]
    },
    {
      "cell_type": "markdown",
      "source": [
        "## PROG 6: Temperature_Conversion\n",
        "\n",
        "Write a Program to take the temperature in Celsius  as input and compute and print the temperature in Fahrenheit using the formula `fahrenheit = (celsius * 9/5) + 32`\n",
        "\n",
        "> **Input =>** Enter celsius. For e.g. 35\n",
        "\n",
        "> **Output =>** `Temperature in Fahrenheit is 95.0 for Celsius 35.0`\n",
        "\n",
        "> **Hint =>**\n",
        "1. Use code `fahrenheit = (celsius * 9/5) + 32` for conversion\n",
        "2. Print the Result with 1 decimal places using Python Format Specifier for floating-point number\n"
      ],
      "metadata": {
        "id": "fXroxZDdhJbI"
      }
    },
    {
      "cell_type": "code",
      "source": [
        "# collect the temperature in Celsius\n",
        "temp_celsius = float(input(\"Enter the temperature in Celsius\"))\n",
        "temp_fahreneit = round((temp_celsius * 9/5) +32,1)\n",
        "\n",
        "# Print the converted temperature\n",
        "print(f\"Temperature in Fahrenheit is {temp_fahreneit} for celsius {temp_celsius}\")"
      ],
      "metadata": {
        "colab": {
          "base_uri": "https://localhost:8080/"
        },
        "id": "yIhBOBcWu8ij",
        "outputId": "a5bf2fe3-e5a2-400b-e54d-6d360434bffa"
      },
      "execution_count": null,
      "outputs": [
        {
          "output_type": "stream",
          "name": "stdout",
          "text": [
            "Enter the temperature in Celsius35.0\n",
            "Temperature in Fahrenheit is 95.0 for celsius 35.0\n"
          ]
        }
      ]
    },
    {
      "cell_type": "markdown",
      "source": [
        "## PROG 7: Perimeter and Area of a Rectangle\n",
        "\n",
        "Write a Program to compute and print perimeter and area of a rectangle in inch and inch<sup>2</sup>,  where length and breadth are entered in cm.\n",
        "\n",
        "> **Input =>** Enter length and breadth in centimeters. eg 20 and 30\n",
        "\n",
        "> **Output =>** `Perimeter of the rectangle is 39.37 inches and Area of the rectangle: 93.00 square inches`\n",
        "\n",
        "> **Hint =>**\n",
        "1. Use 1 inch = 2.54 centimeters\n",
        "2. Perimeter = 2 * (length + breadth) and area = length * breadth\n",
        "2. Print the Result with 2 decimal places using Python Format Specifier for floating-point number\n"
      ],
      "metadata": {
        "id": "C1BxKlOXi-J0"
      }
    },
    {
      "cell_type": "code",
      "source": [
        "# Collect Length and Breadth in cm\n",
        "length_cm = float(input(\"Enter Length in cm: \"))\n",
        "breadth_cm = float(input(\"Enter Breadth in cm: \"))\n",
        "\n",
        "#convert Lenght and breadth from cm to inches\n",
        "length_inch = length_cm / 2.54\n",
        "breadth_inch = breadth_cm / 2.54\n",
        "\n",
        "#Calculate perimeter and area\n",
        "perimeter = round(2* (length_inch + breadth_inch),2)\n",
        "area = round((length_inch * breadth_inch),2)\n",
        "\n",
        "#Print perimeter and area in inches\n",
        "print(f\"Perimeter of the rectangle is {perimeter} inches and Area of the rectangle is {area} square inches\")"
      ],
      "metadata": {
        "colab": {
          "base_uri": "https://localhost:8080/"
        },
        "id": "Zj9UmTsB00kv",
        "outputId": "89a3eeb5-efae-469a-b080-e82da8d8836f"
      },
      "execution_count": null,
      "outputs": [
        {
          "output_type": "stream",
          "name": "stdout",
          "text": [
            "Enter Length in cm: 20\n",
            "Enter Breadth in cm: 30\n",
            "Perimeter of the rectangle is 39.37 inches and Area of the rectangle is 93.0 square inches\n"
          ]
        }
      ]
    },
    {
      "cell_type": "markdown",
      "source": [
        "## PROG 8: Retail Invoicing App\n",
        "\n",
        "A  retail shop-keeper wants to compute the total amount of money he would like to bill to a customer. He  has two types of items : household goods and processed food items.  Household goods have a GST of 5% and processed food items have a GST of 12%..\n",
        "\n",
        "For Retail Invoicing, the seller needs to capture the buyer name, price at which the seller is selling the Household goods and processed food along with the quantity purchased by the buyer.\n",
        "\n",
        "> **Input and Outout =>** Refer Below the sample\n",
        "\n",
        "> **Hint =>** Refer Assisted Practice PROG 7\n",
        "- Print the final amount with Indian Rupee Symbol (Use unicode)\n",
        "\n",
        "```\n",
        "Enter Buyer Name: Narayan\n",
        "Enter Household Good Price: 350\n",
        "Enter Household Good Quantity: 5\n",
        "Enter Processed Food price: 125\n",
        "Enter Processed Food Quantity: 10\n",
        "\n",
        "Buyer Name: Narayan\n",
        "----------------------------------------------------------------------------------\n",
        "|    Item Code    | Price/Unit | #unit |   Price    |    GST     | Total w/ GST |\n",
        "----------------------------------------------------------------------------------\n",
        "| Household Good  |   Rs 350   |  5.0  | Rs 1750.0  |  Rs 87.5   |  Rs 1837.5   |\n",
        "| Processed Food  |   Rs 125   | 10.0  | Rs 1250.0  |  Rs 150.0  |  Rs 1400.0   |\n",
        "----------------------------------------------------------------------------------\n",
        "Total                                                                ₹ 3237.50\n",
        "Total Round                                                          ₹ 3238.00\n",
        "----------------------------------------------------------------------------------\n",
        "\n",
        "```\n",
        "\n"
      ],
      "metadata": {
        "id": "fFilO0RlN4tR"
      }
    },
    {
      "cell_type": "code",
      "source": [
        "# PROG 8: Retail Invoicing App\n",
        "\n",
        "# Step 1: Setting constants for fruits apple GST as 12% and orange GST as 5%\n",
        "household_GST = 0.05 # 5% GST\n",
        "processed_GST = 0.12 # 12% GST\n",
        "\n",
        "# Step 2: Enter Buyer Name, Price for Apple and Orange per kg, and quality of\n",
        "# Apples and Oranges in kg purchased by the buyer\n",
        "buyer_name = input(\"Enter the Buyer Name: \")\n",
        "household_price= int(input('Enter Household Goods price: '))\n",
        "household_quantity= float(input('Enter Household Goods quantity: '))\n",
        "processed_price = int(input('Enter Processed Goods price: '))\n",
        "processed_quantity = float(input('Enter Processed Goods quantity: '))\n",
        "\n",
        "#Step 3: Calculate Total price of Household goods and Processed goods\n",
        "total_price_household= household_price * household_quantity\n",
        "total_price_processed = processed_price * processed_quantity\n",
        "\n",
        "#Step 4: Calculate the GST amount for Household goods and Processed goods\n",
        "total_gst_household = total_price_household * household_GST\n",
        "total_gst_processed = total_price_processed * processed_GST\n",
        "\n",
        "#Step 5: Calculate the total billing amount for aHousehold goods and Processed goods\n",
        "# inclusive of GST\n",
        "total_billing_household = total_price_household + total_gst_household\n",
        "total_billing_processed = total_price_processed + total_gst_processed\n",
        "\n",
        "#Step 5: Calculate total amount to be paid by the buyer and round it\n",
        "total_amount = total_billing_household + total_billing_processed\n",
        "total_round_amount = round(total_amount)\n",
        "\n",
        "#Print the bill\n",
        "print(f'\\nBuyer Name: {buyer_name}')\n",
        "print(f\"{'-' * 76}\")\n",
        "print(f\"| {'Item Code':^15} |{'Price/Unit':^11} | {'# Unit':^4}\",\n",
        "      f\"| {'Price':^7} | {'GST':^10} | {'Total w/ GST':^10} |\")\n",
        "print(f\"{'-' * 76}\")\n",
        "print(f\"| {'Household Goods':^10} | {'Rs '+str(household_price):^10} | {household_quantity:^5}\",\n",
        "      f\"| {'Rs '+str(total_price_household):^5} | {'Rs '+str(total_gst_household):^10}\",\n",
        "      f\"| {'Rs '+str(total_billing_household):^10} |\");\n",
        "print(f\"| {'Processed Goods':^10} | {'Rs '+str(processed_price):^10} | {processed_quantity:^5}\",\n",
        "      f\"| {'Rs '+str(total_price_processed):^5} | {'Rs '+str(total_gst_processed):^10}\",\n",
        "      f\"| {'Rs '+str(total_billing_processed):^10} |\");\n",
        "print(f\"{'-'* 76}\")\n",
        "print(f\"Total {' ' * 58} \\u20B9 {total_amount:.2f}\")\n",
        "print(f\"Total Round {' '* 52} \\u20B9 {total_round_amount:.2f}\")\n",
        "print(f\"{'-' *76}\")"
      ],
      "metadata": {
        "colab": {
          "base_uri": "https://localhost:8080/"
        },
        "id": "qd5ipmfyP5GW",
        "outputId": "d95c18bc-eef7-48af-8488-713043739fbc"
      },
      "execution_count": null,
      "outputs": [
        {
          "output_type": "stream",
          "name": "stdout",
          "text": [
            "Enter the Buyer Name: Narayan\n",
            "Enter Household Goods price: 350\n",
            "Enter Household Goods quantity: 5\n",
            "Enter Processed Goods price: 125\n",
            "Enter Processed Goods quantity: 10\n",
            "\n",
            "Buyer Name: Narayan\n",
            "----------------------------------------------------------------------------\n",
            "|    Item Code    |Price/Unit  | # Unit |  Price  |    GST     | Total w/ GST |\n",
            "----------------------------------------------------------------------------\n",
            "| Household Goods |   Rs 350   |  5.0  | Rs 1750.0 |  Rs 87.5   | Rs 1837.5  |\n",
            "| Processed Goods |   Rs 125   | 10.0  | Rs 1250.0 |  Rs 150.0  | Rs 1400.0  |\n",
            "----------------------------------------------------------------------------\n",
            "Total                                                            ₹ 3237.50\n",
            "Total Round                                                      ₹ 3238.00\n",
            "----------------------------------------------------------------------------\n"
          ]
        }
      ]
    }
  ]
}