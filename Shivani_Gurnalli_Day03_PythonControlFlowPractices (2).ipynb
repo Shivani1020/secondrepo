{
  "nbformat": 4,
  "nbformat_minor": 0,
  "metadata": {
    "colab": {
      "provenance": []
    },
    "kernelspec": {
      "name": "python3",
      "display_name": "Python 3"
    },
    "language_info": {
      "name": "python"
    }
  },
  "cells": [
    {
      "cell_type": "markdown",
      "source": [
        "# Day 03 Python Control Flow Assisted Practices\n",
        "\n",
        "Python program control flow is regulated by various types of conditional statements, loops, and function calls to regulate program execution at realtime. Through Assisted Practice and Self Practice we will dvelve deeper into Python Control Flows\n",
        "\n"
      ],
      "metadata": {
        "id": "onevqwpEwps3"
      }
    },
    {
      "cell_type": "markdown",
      "source": [
        "## BEST PROGRAMMING PRACTICE\n",
        "\n",
        "> **1: Python String Format -** Using Python String Format in Print function enhances the readability and maintainability of the code\n",
        "\n",
        "> **2: Naming Conventions -**\n",
        "- **Global or Local Variables -** Should be in lower case and Use an underscore to join words.\n",
        "- **Constants in Python -** Should be only in upper case and Use an underscore to join words.\n",
        "- **Function Names -** Should be in lower case and Use an underscore to join words.\n",
        "- **Module Names -** Should be in lower case and Use an underscore to join words.\n",
        "- **Package Names -** Should be in lower case and Use an underscore to join words.\n",
        "- **Class Names -** Should follow CapWords convention.\n",
        "- **Merhod Names -** Should be in lower case and Use an underscore to join words.\n",
        "- **Merhod Arguments -**\n",
        "  - Every instance method should have ‘self’ as its first argument.\n",
        "  - Class methods should have their first argument named ‘cls’.\n",
        "\n",
        "> **3: Descriptive Variable Name -**\n",
        "- Avoid names that are too general or wordy. Maintain a good balance between the two.\n",
        "- **Bad:** user_list, dict_to_store_defns_of_a_word, swapNums, moveInts.\n",
        "- **Good:** user_info, word_definitions, swap_numbers, move_integers.\n",
        "- Avoid naming things like “X”, “Y” or “Z”.\n",
        "- Capitalize all letters of an abbreviation when using camelcase.\n",
        "- Avoid names starting with digits. Combination of lowercase letters (a to z) or uppercase letters (A to Z) or digits (0 to 9) or an underscore (_) can be used.\n",
        "\n",
        "> **4: Hard Coding Variables -** Hardcoding values to variables within your code can create maintenance and scalability challenging.\n",
        "\n",
        "> **5: Embracing Modularization -** Writing monolithic scripts without breaking code into reusable functions or classes can make code difficult to test, debug, and maintain.\n",
        "\n",
        "> **6: Proper Function Usage -** Python Functions are block of code that is run only when called. Guidelines for Python functions\n",
        "- 1: Proper Comments for the function\n",
        "- 2: Use of Global Variable should be avoided\n",
        "- 3: Use of function type annotation, by Default is any\n",
        "\n",
        "> **7: Handling Exceptions -** Ignoring exceptions or using bare except: clauses can hide bugs and lead to unexpected failures. Be specific about the exceptions you catch and handle, improving debugging and error resolution.\n",
        "\n",
        "> **8: Unit Test Cases -** Unit tests are designed to test single units of code in isolation. They are quick and easy to create, and help find and fix bugs early in the development cycle.\n",
        "- In Unit Test Cases the Input and the Output are well defined. It is to ensure the program also gives the same output\n",
        "- Please ensure all the Unit Test Cases identified in the program are tested\n"
      ],
      "metadata": {
        "id": "VUmf_5K5RCmY"
      }
    },
    {
      "cell_type": "markdown",
      "source": [
        "## PROG 1: Leap Year\n",
        "\n",
        "Write a LeapYear program that takes a year as input and outputs the Year is a Leap Year or not a Leap Year\n",
        "\n",
        "> **Programming Logic:**\n",
        "1. The LeapYear program only works from the year 1582, corresponding to a year in the Gregorian calendar. So ensure to check for the same.\n",
        "2. Further the Leap Year is a Year divisible by both 100 and 400\n",
        "3. Also Leap Year is a uear divisible by 4 and not 100\n",
        "\n",
        "> **Test Case: 1 -**\n",
        "- **Input =>** Enter a year: 2000\n",
        "- **Output =>** `The year 2000 is a leap year`\n",
        "\n",
        "> **Test Case: 2 -**\n",
        "- **Input =>** Enter a year: Test\n",
        "- **Output =>** `Invalid year Test enetered. Please enter a valid year.`\n",
        "\n",
        "> **Test Case: 3 -**\n",
        "- **Input =>** Enter a year 2000.0\n",
        "- **Output =>** `Invalid year 2000.0 enetered. Please enter a valid year.`\n",
        "\n",
        "> **Test Case: 4 -**\n",
        "- **Input =>** Enter a year: 1800\n",
        "- **Output =>** `The year 1800 is not a leap year`\n",
        "\n",
        "> **Test Case: 5 -**\n",
        "- **Input =>** Enter a year: 1200\n",
        "- **Output =>** `The entered year 1200 must be 1582 or later.`\n",
        "\n",
        "> **Hint =>**\n",
        "1. Use python string built-in function `isdigit()` check all the characters are digit\n",
        "2. Use `if: elif: else:` condition block to test leap year\n"
      ],
      "metadata": {
        "id": "hHNArvS5Bti3"
      }
    },
    {
      "cell_type": "markdown",
      "source": [
        "### PROG 1.1: Leap Year\n",
        "\n",
        "Takes Year as Input. Uses multiple `if:`, `elif:` and `else:` block to check if the input is digit, if input year are valid and finally the block to check the leap year"
      ],
      "metadata": {
        "id": "1p5cAs4-f6ro"
      }
    },
    {
      "cell_type": "code",
      "execution_count": null,
      "metadata": {
        "colab": {
          "base_uri": "https://localhost:8080/"
        },
        "id": "FXZh1zSHwVcM",
        "outputId": "20b92c65-f43f-4e3d-93c0-c10a7a6268bd"
      },
      "outputs": [
        {
          "output_type": "stream",
          "name": "stdout",
          "text": [
            "Enter a year: 2000\n",
            "The year 2000 is a leap year\n"
          ]
        }
      ],
      "source": [
        "# PROG 1.1: Leap Year\n",
        "\n",
        "# Step 1: Prompt user to enter a year and assign to global variable year_input\n",
        "year_input= input(\"Enter a year: \")\n",
        "\n",
        "# Step 2: Check if input is a digit\n",
        "if year_input.isdigit():\n",
        "  #Step 3: Convert input to integer and assign it to the local variable year\n",
        "  year = int(year_input)\n",
        "\n",
        "  #step 4: Check if the year is at least 1582 which is the start of the Gregorian calender\n",
        "  if year >= 1582 :\n",
        "\n",
        "    # Step 5: Divided by 100 means century year (ending with 00)\n",
        "    # and century year divided by 400 is leap year\n",
        "    if (year% 100 ==0) and (year % 400 == 0) :\n",
        "      print(f\"The year {year} is a leap year\")\n",
        "\n",
        "    # Step 6: Check if the year is divisible by 4 and not by 100\n",
        "    elif (year %n4 ==0) and  (year % 100 != 0) :\n",
        "      print(f\"The year {year} is a leap year\")\n",
        "    else :\n",
        "      print(f\"The year {year} is not a leap year\")\n",
        "  else:\n",
        "    print(f\"The entered year {year} must be 1582 or later.\")\n",
        "else:\n",
        "  print(f\"Invalid year {year_input} entered. Please enter a valid year.\")\n"
      ]
    },
    {
      "cell_type": "markdown",
      "source": [
        "### PROG 1.2: Leap Year Function\n",
        "\n",
        "Creating `check_leap_year()` function to solve Object Calisthenics issue of many nested condition. Ensuring only single `if:` condition and using early return to avoid multiple `if:`, `elif:` and `else:` blocks"
      ],
      "metadata": {
        "id": "FuUXUN1ndd7Z"
      }
    },
    {
      "cell_type": "code",
      "source": [
        "# PROG 1.2: Leap Year Function\n",
        "\n",
        "def check_leap_year(year_input):\n",
        "  #Step 1: Chack if input is a digit\n",
        "  if year_input.isdigit() == False :\n",
        "    return f\"Invalid year {year_input} entered. Please enter a valid year.\"\n",
        "  # Step 2: Convert input to integer and assign it to local variable year\n",
        "  year = int(year_input)\n",
        "\n",
        "  #Step 3: Check if the year is at least 1582 which is the start of the Gregorian calender\n",
        "  if year < 1582 :\n",
        "    return f\"The entered year {year} must be 1582 or later.\"\n",
        "\n",
        "  # Step 4: Divided by 100 means century year (ending with 00)\n",
        "  # and century year divided by 400 is leap year\n",
        "  if (year %100 == 0) and (year % 400 == 0) :\n",
        "    return f\"The year {year} is a leap year\"\n",
        "\n",
        "  # Step 5: Check if the year is divisible by 4 and not by 100\n",
        "  if (year% 4 == 0) and (year% 100 != 0) :\n",
        "    return f\"The year {year} is a leap year\"\n",
        "\n",
        "  # step 6: Not a leap year\n",
        "  return f\"The year {year} is not a leap year\"\n",
        "\n",
        "print(check_leap_year(input(\"Enter a year: \")))\n",
        "\n",
        "\n"
      ],
      "metadata": {
        "colab": {
          "base_uri": "https://localhost:8080/"
        },
        "id": "vFLBVwGrdcMq",
        "outputId": "bcda67f0-c1c4-496b-f15d-98cc31ce852e"
      },
      "execution_count": null,
      "outputs": [
        {
          "output_type": "stream",
          "name": "stdout",
          "text": [
            "Enter a year: 2024\n",
            "The year 2024 is a leap year\n"
          ]
        }
      ]
    },
    {
      "cell_type": "markdown",
      "source": [
        "## PROG 2: Temperature Conversion\n",
        "\n",
        "Write a Program to take the temperature as input as well as the unit C for Celsius and F for Fahrenheit. Compute and print the temperature in Fahrenheit or Celsius\n",
        "\n",
        "using the formula `fahrenheit = (celsius * 9/5) + 32`\n",
        "\n",
        "Enhance the temperature conversion program where a unit of temperature is taken as an input (Centigrade or Fahrenheit).\n",
        "\n",
        "Based  on the entered unit , conversion changes 0c to 0f or vice versa.\n",
        "\n",
        "> **Test Case: 1 -**\n",
        "- **Input =>**\n",
        "  - Enter the temperature: test\n",
        "- **Output =>** `Invalid Temperature test. Please enter digits.`\n",
        "\n",
        "> **Test Case: 2 -**\n",
        "- **Input =>**\n",
        "  - Enter the temperature: 0\n",
        "  - Enter the unit of temperature (C for Celsius, F for Fahrenheit): Test\n",
        "- **Output =>** `Invalid unit Test. Please enter 'C' for Celsius or 'F' for Fahrenheit.`\n",
        "\n",
        "> **Test Case: 3 -**\n",
        "- **Input =>**\n",
        "  - Enter the temperature: 32 and\n",
        "  - Enter the unit of temperature (C for Celsius, F for Fahrenheit): f\n",
        "- **Output =>** `32.0°F is equal to 0.0°C`\n",
        "\n",
        "> **Test Case: 4 -**\n",
        "- **Input =>**\n",
        "  - Enter the temperature: 35\n",
        "  - Enter the unit of temperature (C for Celsius, F for Fahrenheit): C\n",
        "- **Output =>** `35.0°C is equal to 95.0°F`\n",
        "\n",
        "> **Hint =>**\n",
        "1. If Temperature is in celsius - Use code `fahrenheit = (celsius * 9/5) + 32` for conversion or\n",
        "2. If Temperature is in fahrenheit - Use code `celsius = (fahrenheit - 32) * 5/9` for conversion or\n",
        "3. Print the Result with 1 decimal places using Python Format Specifier for floating-point number\n"
      ],
      "metadata": {
        "id": "r6ifqbVEt9f8"
      }
    },
    {
      "cell_type": "markdown",
      "source": [
        "### PROG 2.1: Temperature Conversion using if block\n",
        "\n",
        "This program uses `if:`, `elif:` and `else :` block to do the temperature conversion from Fahrenheit to  Celsius or viseversa"
      ],
      "metadata": {
        "id": "BVD_oMfFuAcF"
      }
    },
    {
      "cell_type": "code",
      "source": [
        "# PROG 2.1: Temperature Conversion using if block\n",
        "\n",
        "#Step 1: Prompt user for input temperature\n",
        "temperature_entered = input(\"Enter the temperature: \")\n",
        "\n",
        "#Step 2: Check if temperature is in digit, then take up conversion\n",
        "if temperature_entered.isdigit() :\n",
        "  temperature = float(temperature_entered);\n",
        "  #Step 3: Take input for unit and check to perform conversion accordingly\n",
        "  unit = input(\"Enter the unit of temperature (C for celsius, F for Fahrenheit): \")\n",
        "  if unit =='C' or unit == 'c':\n",
        "    converted_temp =(temperature * 9/5) +32\n",
        "    print(f\"{temperature}°C is equal to {converted_temp:.1f}°F\")\n",
        "  elif unit == 'F' or unit == 'f':\n",
        "    converted_temp = (temperature - 32) *5/9\n",
        "    print(f\"{temperature}°F is equal to {converted_temp:.1f}°C\")\n",
        "  else:\n",
        "    print(f\"Invalid unit {unit}. Please enter 'C for celsius or 'F' for Fahrenheit.\" )\n",
        "else:\n",
        "  print(f\"Invalid Temperature {temperature_entered}. Please enter digits.\")"
      ],
      "metadata": {
        "colab": {
          "base_uri": "https://localhost:8080/"
        },
        "id": "EiN0R_v8uBLQ",
        "outputId": "259f76fd-5f86-4279-ca32-c1f0f003b4a1"
      },
      "execution_count": null,
      "outputs": [
        {
          "output_type": "stream",
          "name": "stdout",
          "text": [
            "Enter the temperature: 0\n",
            "Enter the unit of temperature (C for celsius, F for Fahrenheit): test\n",
            "Invalid unit test. Please enter 'C for celsius or 'F' for Fahrenheit.\n"
          ]
        }
      ]
    },
    {
      "cell_type": "markdown",
      "source": [
        "### PROG 2.2: Temperature Conversion using match block\n",
        "\n",
        "This program uses `match:` and `case:` block to do the temperature conversion from Fahrenheit to  Celsius or viseversa"
      ],
      "metadata": {
        "id": "bwo2OSnOvJxr"
      }
    },
    {
      "cell_type": "code",
      "source": [
        "# PROG 2.2: Temperature Conversion using match block\n",
        "\n",
        "# Step 1: Prompt user for temperature\n",
        "temperature_entered = input(\"Enter the temperature: \")\n",
        "\n",
        "# Step 2: Check if themperature is in digit, then take up conversion\n",
        "if temperature_entered.isdigit() :\n",
        "  temperature = float(temperature_entered);\n",
        "  #Step 3: Take input for unit and check to perform conversion accordingly\n",
        "  unit = input(\"Enter the unit of temperature (C fo Celsius, F for Fahrenheit): \")\n",
        "  match unit:\n",
        "    case 'C' |'c':\n",
        "      celsius = temperature\n",
        "      fahrenheit = (celsius *9/5) + 32\n",
        "      print(f\"{celsius}°C is equal to {fahrenheit:.1f}°F\")\n",
        "    case 'F' | 'f':\n",
        "      fahrenheit = temperature\n",
        "      celsius = (fahrenheit -32) *5/9\n",
        "      print(f\"{fahrenheit}°F is equal to {celsius:.1f}°C \")\n",
        "    case _:\n",
        "      print(f\"Invalid unit {unit}. Please enter 'C' for celsius or 'F' for fahrenheir.\")\n",
        "else:\n",
        "  print(f\"Invalid temperature {temperature_entered}. Please enter digits.\")"
      ],
      "metadata": {
        "colab": {
          "base_uri": "https://localhost:8080/"
        },
        "id": "ERgrTc0mvKZt",
        "outputId": "a6310d65-13ff-4cff-e58a-a172fe1fad34"
      },
      "execution_count": null,
      "outputs": [
        {
          "output_type": "stream",
          "name": "stdout",
          "text": [
            "Enter the temperature: 0\n",
            "Enter the unit of temperature (C fo Celsius, F for Fahrenheit): c\n",
            "0.0°C is equal to 32.0°F\n"
          ]
        }
      ]
    },
    {
      "cell_type": "markdown",
      "source": [
        "## PROG 3: Vowel or Consonant\n",
        "\n",
        "Create a program that takes a single character as input and determines whether it is a vowel or a consonant. Handle wrong inputs by user and default it to character 'A'\n",
        "\n",
        "> **Test Case: 1 -**\n",
        "- **Input =>** Enter a single character ( A-Z ):\n",
        "- **Output =>** `The character 'A' is a Vowel.`\n",
        "\n",
        "> **Test Case: 2 -**\n",
        "- **Input =>** Enter a single character ( A-Z ): TEST\n",
        "- **Output =>** `The character 'T' is a Consonant.`\n",
        "\n",
        "> **Test Case: 3 -**\n",
        "- **Input =>** Enter a single character ( A-Z ): 123\n",
        "- **Output =>** `The character 'A' is a Vowel.`\n",
        "\n",
        "> **Test Case: 4 -**\n",
        "- **Input =>** Enter a single character ( A-Z ): o\n",
        "- **Output =>** `The character 'O' is a Vowel.`\n",
        "\n",
        "> **Test Case: 5 -**\n",
        "- **Input =>** Enter a single character ( A-Z ): x\n",
        "- **Output =>** `The character 'X' is a Consonent.`\n",
        "\n",
        "\n",
        "> **Hint =>**\n",
        "1. Check the length of user input if 0 use default charater.\n",
        "2. In case length greater than 0 take the first letter using string index and convert to upper case\n",
        "3: Check the letter is Alpha. If not than use default character\n",
        "4. Determine the character is Vowel or Consonent with multiple approaches\n",
        "5. Use f-string to show the desired result\n"
      ],
      "metadata": {
        "id": "UPwdJPQUYGyw"
      }
    },
    {
      "cell_type": "markdown",
      "source": [
        "### PROG 3.1 Vowel or Consonant using if and match block\n",
        "\n",
        "We will use if: else: and match: block to determine the character is a Vowel or a Consonent"
      ],
      "metadata": {
        "id": "eJjhEAhFRJgC"
      }
    },
    {
      "cell_type": "code",
      "source": [
        "# PROG 3.1 Vowel or Consonant using if and match block\n",
        "\n",
        "# Step 1: Setting consonant using if and match block\n",
        "DEFAULT_CHAR = 'A'\n",
        "\n",
        "# Step 2: Prompt user for input\n",
        "user_unput = input(\"Enter a single character (A-Z): \")\n",
        "\n",
        "# Step 3: Checking the length of user input, either accessing the DEFAULT_CHAr\n",
        "# or the first character of the user input using string indexing and converting\n",
        "# the same to upper case\n",
        "char = len(user_unput) ==0 and DEFAULT_CHAR or user_unput[0].upper()\n",
        "\n",
        "# Step 4: Checking if the character is alpha, if not then assigning DEFAULT_CHAR\n",
        "char = char.isalpha() and char or DEFAULT_CHAR\n",
        "\n",
        "#step 5: Determining vowel or consonent using multiple optional ways\n",
        "\n",
        "#option 1: Using if: else: Conditional Block\n",
        "if (char == 'A' or char =='E' or char=='I' or char == 'O' or char == 'U' ) :\n",
        "  print(f\"\\n OPTION 1: The character '{char}' is a Vowel.\")\n",
        "else:\n",
        "  print(f\"\\n OPTION 1: The character '{char}' is a Consonent.\")\n",
        "\n",
        "# Option 2: Using match: case: Conditional Block\n",
        "match char:\n",
        "  case 'A' | 'E' | 'I' | 'O' |'U' :\n",
        "    print(f\"\\n OPTION 2: The character '{char}' is a Vowel.\")\n",
        "  case _:\n",
        "    print(f\"\\n OPTION 2: The character '{char}' ia a Consonent.\")\n"
      ],
      "metadata": {
        "colab": {
          "base_uri": "https://localhost:8080/"
        },
        "id": "G2rLL-KeRyAh",
        "outputId": "03e1aab6-05b2-4faa-b424-bd45fb830fd0"
      },
      "execution_count": null,
      "outputs": [
        {
          "output_type": "stream",
          "name": "stdout",
          "text": [
            "Enter a single character (A-Z): Eat\n",
            "\n",
            " OPTION 1: The character 'E' is a Vowel.\n",
            "\n",
            " OPTION 2: The character 'E' is a Vowel.\n"
          ]
        }
      ]
    },
    {
      "cell_type": "markdown",
      "source": [
        "### PROG 3.2 Vowel or Consonant using Python String\n",
        "\n",
        "We will use Python String function and membership `in` operator to determine the character is a Vowel or a Consonent"
      ],
      "metadata": {
        "id": "uD82hNjaSpJk"
      }
    },
    {
      "cell_type": "code",
      "source": [
        "# PROG 3.2 Vowel or Consonant using Python String\n",
        "\n",
        "# STep 1: Setting Constants for Character and Vowel\n",
        "DEFAULT_CHAR = 'A'\n",
        "VOWEL = 'AEIOU'\n",
        "\n",
        "#Step 2: Prompt user for input\n",
        "user_unput = input(\"Enter a single character (A-Z): \")\n",
        "\n",
        "# Step 3: Checking the length of user input, either accessing the DEFAULT_CHAr\n",
        "# or the first character of the user input using string indexing and converting\n",
        "# the same to upper case\n",
        "char = len(user_unput) ==0 and DEFAULT_CHAR or user_unput[0].upper()\n",
        "\n",
        "# Step 4: Checking if the character is alpha, if not then assigning DEFAULT_CHAR\n",
        "char = char.isalpha() and char or DEFAULT_CHAR\n",
        "\n",
        "#step 5: Determining vowel or consonent using multiple optional ways\n",
        "\n",
        "# OPTION 3: Using String class built-in find() method to check if character\n",
        "# is present in the global constant VOWEL\n",
        "print(f\"\\n OPTION 3: The character '{char}' is a\",\n",
        "      f\"{VOWEL.find(char) != -1 and 'Vowel' or 'Consonent'}.\")\n",
        "\n",
        "#OPTION 4: Using Membership Operator to check if character is in VOWEL String\n",
        "# defined as global\n",
        "print(f\"\\n OPTION 4: The character '{char}' is a\",\n",
        "      f\"{char in VOWEL and 'vowel' or 'Consonent'}.\")\n",
        "\n"
      ],
      "metadata": {
        "colab": {
          "base_uri": "https://localhost:8080/"
        },
        "id": "BTQYNby9Sors",
        "outputId": "6e94909e-d26d-4d43-de09-e1541d35d217"
      },
      "execution_count": null,
      "outputs": [
        {
          "output_type": "stream",
          "name": "stdout",
          "text": [
            "Enter a single character (A-Z): e\n",
            "\n",
            " OPTION 3: The character 'E' is a Vowel.\n",
            "\n",
            " OPTION 4: The character 'E' is a vowel.\n"
          ]
        }
      ]
    },
    {
      "cell_type": "markdown",
      "source": [
        "### PROG 3.3: Vowel or Consonant using Python List and Dict\n",
        "\n",
        "We will use Python list and dict data type to determine the character is a Vowel or a Consonent"
      ],
      "metadata": {
        "id": "U-mSEODsgO8q"
      }
    },
    {
      "cell_type": "code",
      "source": [
        "# PROG 3.3: Vowel or Consonant using Python List and Dict\n",
        "\n",
        "# Step 1: Setting consonants for default Character, vowel string, vowel as List\n",
        "# and vowel as Dictionary\n",
        "DEFAULT_CHAR = 'A'\n",
        "VOWEL = 'AEIOU'\n",
        "\n",
        "# Creating VOWELS Objects from Sequence of vowel Characters\n",
        "# VOWELS = ['A', 'E', 'I', 'O', 'U']\n",
        "VOWELS = list(VOWEL)\n",
        "\n",
        "# Creating VOWEL_DICT and setting all the keys vowel characters and value as vowel\n",
        "# VOWEL_DICT ={'A': 'vowel', 'E': 'vowel', 'I': 'vowel', 'O': 'vowel', 'U': 'vowel'}\n",
        "VOWEL_DICT = dict.fromkeys(VOWELS,\"vowel\")\n",
        "\n",
        "# Printing vowel list and Dict\n",
        "print(f\"VOWEL List Type: {type(VOWELS)}\",\n",
        "      f\"VOWEL Dict Type: {type(VOWEL_DICT)}\", sep = '\\n')\n",
        "print(f\"VOWEL List: {VOWELS}\", f\"VOWEL Dict: {VOWEL_DICT}\", sep = '\\n')\n",
        "\n",
        "# Step 2: Prompt user for input\n",
        "user_unput = input(\"Enter a single character (A-Z): \")\n",
        "\n",
        "# Step 3: Checking the length of user input, either accessing the DEFAULT_CHAr\n",
        "# or the first character of the user input using string indexing and converting\n",
        "# the same to upper case\n",
        "char = len(user_unput) ==0 and DEFAULT_CHAR or user_unput[0].upper()\n",
        "\n",
        "# Step 4: Checking if the character is alpha, if not then assigning DEFAULT_CHAR\n",
        "char = char.isalpha() and char or DEFAULT_CHAR\n",
        "\n",
        "#step 5: Determining vowel or consonent using multiple optional ways\n",
        "\n",
        "# Option 5: Using Membership Operator to check if character is in VOWELS List\n",
        "# defined as global\n",
        "print(f\"\\n OPTION 5: The character '{char}' is a\",\n",
        "      f\"{char in VOWELS and 'vowel' or 'Consonent'}.\")\n",
        "\n",
        "# Option 6: Using vowel Dict get() method to get character if Vowel, else\n",
        "# default to Consonent\n",
        "print(f\"\\nOPTION 6: The character '{char}' is a\",\n",
        "      f\"{VOWEL_DICT.get(char, 'consonent')}.\")"
      ],
      "metadata": {
        "colab": {
          "base_uri": "https://localhost:8080/"
        },
        "id": "vXkGek1UgPbL",
        "outputId": "c6e2f9ec-9e8c-481f-83ef-266b6eae45ca"
      },
      "execution_count": null,
      "outputs": [
        {
          "output_type": "stream",
          "name": "stdout",
          "text": [
            "VOWEL List Type: <class 'list'>\n",
            "VOWEL Dict Type: <class 'dict'>\n",
            "VOWEL List: ['A', 'E', 'I', 'O', 'U']\n",
            "VOWEL Dict: {'A': 'vowel', 'E': 'vowel', 'I': 'vowel', 'O': 'vowel', 'U': 'vowel'}\n",
            "Enter a single character (A-Z): i\n",
            "\n",
            " OPTION 5: The character 'I' is a vowel.\n",
            "\n",
            "OPTION 6: The character 'I' is a vowel.\n"
          ]
        }
      ]
    },
    {
      "cell_type": "markdown",
      "source": [
        "### PROG 3.4: Vowel or Consonant all approach performance\n",
        "\n",
        "We have used 6 different approaches to determine the character is a Vowel or a Consonent. Here we will look at how much time each approach take to show the result\n",
        "\n",
        "To measure time taken for every option. We `import time` Module and use `time.time()` to compute the start and end time. Hence kind find the difference to measure the performance. The final result is multiplied by 10<sup>6</sup> to get readable value. Here is the code\n",
        "<br>`{((time.time() - start_time)*10**6)} micro seconds`"
      ],
      "metadata": {
        "id": "8HXKxwX5mGVN"
      }
    },
    {
      "cell_type": "code",
      "source": [
        "# PROG 3.4: Vowel or Consonant all approach performance\n",
        "\n",
        "import time\n",
        "\n",
        "#Step 1: Setting Consonants for default Character, Vowels, vowels as Dictionary\n",
        "# and vowel as List\n",
        "DEFAULT_CHAR = 'A'\n",
        "VOWEL = 'AEIOU'\n",
        "\n",
        "#Creating VOWELS object from sequence of vowel Characters\n",
        "# VOWELS = ['A', 'E', 'I', 'O', 'U']\n",
        "VOWELS = list(VOWEL)\n",
        "\n",
        "# Creating VOWEL_DICT and setting all the keys vowel characters and value as vowel\n",
        "# VOWEL_DICT = {'A': 'vowel', 'E': 'vowel', 'I': 'vowel', 'O': 'vowel', 'U': 'vowel'}\n",
        "VOWEL_DICT = dict.fromkeys(VOWELS,\"vowel\")\n",
        "\n",
        "# Printing vowel list and Dict\n",
        "print(f\"VOWEL List: {VOWELS}\", f\"VOWEL Dict: {VOWEL_DICT}\", sep = '\\n')\n",
        "\n",
        "#Step 2: Prompt user for input\n",
        "user_unput = input(\"Enter a single character (A-Z): \")\n",
        "\n",
        "# Step 3: Checking the length of user input, either accessing the DEFAULT_CHAr\n",
        "# or the first character of the user input using string indexing and converting\n",
        "# the same to upper case\n",
        "char = len(user_unput) ==0 and DEFAULT_CHAR or user_unput[0].upper()\n",
        "\n",
        "# Step 4: Checking if the character is alpha, if not then assigning DEFAULT_CHAR\n",
        "char = char.isalpha() and char or DEFAULT_CHAR\n",
        "\n",
        "#step 5: Determining vowel or consonent using multiple optional ways\n",
        "\n",
        "#OPTION 1: Using if: else: Conditional block\n",
        "start_time = time.time()\n",
        "if (char == 'A' or char == 'E' or char == 'I' or char == 'O' or char == 'U') :\n",
        "  print(f\"\\n OPTION 1: In if: The character '{char}' is a vowel.\")\n",
        "else:\n",
        "  print(f\"\\n OPTION 1: in else: The character '{char}' is a Consonent.\")\n",
        "print(f\"--- {((time.time() - start_time)* 10**6)} micro seconds ---\")\n",
        "\n",
        "# OPTION 2: Using match : case: Conditional Block\n",
        "start_time = time.time()\n",
        "match char:\n",
        "  case 'A' | 'E' | 'I' |'O' | 'U' :\n",
        "    print(f\"\\nOPTION 2: In match: The character '{char}' is a vowel.\")\n",
        "  case _:\n",
        "    print(f\"\\nOPTION 2: The case: The character '{char}' is a Consonant.\")\n",
        "print(f\"---{((time.time()- start_time)*10**6)} micro seconds---\")\n",
        "\n",
        "#OPTION 3: Using String class built-in find() method to check if character is\n",
        "# present in the global constant VOWEL\n",
        "start_time = time.time()\n",
        "print(f\"\\n OPTION 3: Using find() The character '{char}' is a\",\n",
        "      f\"{VOWEL.find(char) != -1 and 'Vowel' or 'consonent'}.\")\n",
        "print(f\"---{((time.time()- start_time)*10**6)} micro seconds---\")\n",
        "\n",
        "#OPTION 4: Using Membership Operator to check if character is in VOWEL String\n",
        "# defined as global\n",
        "start_time = time.time()\n",
        "print(f\"\\nOPTION 4: Using String in Operator The character '{char}' is a\",\n",
        "      f\"{char in VOWEL and 'vowel' or 'Consonents'}.\")\n",
        "print(f\"---{((time.time()- start_time)*10**6)} micro seconds---\")\n",
        "\n",
        "# OPTION 5: Using Membership Operator to check if character is in VOWEL List\n",
        "# defined as global\n",
        "start_time = time.time()\n",
        "print(f\"\\nOPTION 5: Using List in Operator The character '{char}' is a\",\n",
        "      f\"{char in VOWEL and 'vowel' or 'Consonents'}.\")\n",
        "print(f\"---{((time.time()- start_time)*10**6)} micro seconds---\")\n",
        "\n",
        "# OPTIon 5: Using Vowel Dict get() method to get character if Vowel, else\n",
        "# default to consonent\n",
        "print(f\"\\n OPTION 6: Using Dict get() The character '{char}' is a\",\n",
        "      f\"{VOWEL_DICT.get(char, 'consonent')}.\")\n",
        "print(f\"---{((time.time()- start_time)*10**6)} micro seconds---\")\n",
        "\n"
      ],
      "metadata": {
        "colab": {
          "base_uri": "https://localhost:8080/"
        },
        "id": "2D-tnB-t8p7K",
        "outputId": "eee31a7f-797d-4daf-b8a5-1d9158ab70c4"
      },
      "execution_count": null,
      "outputs": [
        {
          "output_type": "stream",
          "name": "stdout",
          "text": [
            "VOWEL List: ['A', 'E', 'I', 'O', 'U']\n",
            "VOWEL Dict: {'A': 'vowel', 'E': 'vowel', 'I': 'vowel', 'O': 'vowel', 'U': 'vowel'}\n",
            "Enter a single character (A-Z): i\n",
            "\n",
            " OPTION 1: In if: The character 'I' is a vowel.\n",
            "--- 366.2109375 micro seconds ---\n",
            "\n",
            "OPTION 2: In match: The character 'I' is a vowel.\n",
            "---513.7920379638672 micro seconds---\n",
            "\n",
            " OPTION 3: Using find() The character 'I' is a Vowel.\n",
            "---665.1878356933594 micro seconds---\n",
            "\n",
            "OPTION 4: Using String in Operator The character 'I' is a vowel.\n",
            "---625.8487701416016 micro seconds---\n",
            "\n",
            "OPTION 5: Using List in Operator The character 'I' is a vowel.\n",
            "---736.9518280029297 micro seconds---\n",
            "\n",
            " OPTION 6: Using Dict get() The character 'I' is a vowel.\n",
            "---2030.3726196289062 micro seconds---\n"
          ]
        }
      ]
    },
    {
      "cell_type": "markdown",
      "source": [
        "## PROG 4: Prime Numbers\n",
        "\n",
        "Write a program that takes a range of numbers as input and outputs the Prime Numbers in that range.\n",
        "\n",
        "> **Test Case: 1 -**\n",
        "- **Input =>**\n",
        "  <br>Enter the start of the range: 14\n",
        "  <be>Enter the end of the range: 16\n",
        "- **Output =>**\n",
        "```\n",
        "Prime numbers in the range 14 to 16:\n",
        "No prime numbers found in the specified range\n",
        "```\n",
        "\n",
        "> **Test Case: 2 -**\n",
        "- **Input =>**\n",
        "  <br>Enter the start of the range: 2\n",
        "  <be>Enter the end of the range: 13\n",
        "- **Output =>**\n",
        "```\n",
        "Prime numbers in the range 02 to 13:\n",
        "2, 3, 5, 7, 11, 13\n",
        "```\n",
        "\n",
        "> **Test Case: 3 -**\n",
        "- **Input =>**\n",
        "  <br>Enter the start of the range: Test\n",
        "  <be>Enter the end of the range: 16\n",
        "- **Output =>** `Invalid input start Test and end 16 must be positive integers and start is smaller than end`\n",
        "\n",
        "> **Test Case: 4 -**\n",
        "- **Input =>**\n",
        "  <br>Enter the start of the range: 2\n",
        "  <be>Enter the end of the range: Test\n",
        "- **Output =>** `Invalid input start 02 and end Test must be positive integers and start is smaller than end`\n",
        "\n",
        "> **Test Case: 5 -**\n",
        "- **Input =>**\n",
        "  <br>Enter the start of the range: -1\n",
        "  <be>Enter the end of the range: 13\n",
        "- **Output =>** `Invalid input start -1 and end 13 must be positive integers and start is smaller than end`\n",
        "\n",
        "> **Test Case: 6 -**\n",
        "- **Input =>**\n",
        "  <br>Enter the start of the range: 13\n",
        "  <be>Enter the end of the range: 2\n",
        "- **Output =>** `Invalid input start 13 and end 02 must be positive integers and start is smaller than end`\n",
        "\n",
        "> **Hint =>**\n",
        "1. Modify code to handle input errors, mainly positive integers and start is smaller than end  \n",
        "2. In case length greater than 0 take the first letter using string index and convert to upper case\n",
        "3. Use f-string to show the desired result\n",
        "\n"
      ],
      "metadata": {
        "id": "ZWNTsPzx-t5J"
      }
    },
    {
      "cell_type": "markdown",
      "source": [
        "### PROG 4.1: Prime Numbers using while loop\n",
        "\n",
        "Write a program that takes a range of numbers as input and using the while loop output the Prime Numbers in that range.\n",
        "\n",
        "**MODIFY -** Modify the code to handle bad user inputs"
      ],
      "metadata": {
        "id": "ydf6HZmquqDk"
      }
    },
    {
      "cell_type": "code",
      "source": [
        "### PROG 4.1: Prime Numbers using while loop\n",
        "\n",
        "# Step 1: Prompt user for input\n",
        "range_start = input(\"Enter the start of the range: \")\n",
        "range_end = input(\"Enter the end of the range: \")\n",
        "# Check if input is a digit\n",
        "if range_start.isdigit():\n",
        "  # Convert input to integer and assign it to the local variable year\n",
        "  start_range = int(range_start)\n",
        "\n",
        "if range_end.isdigit():\n",
        "  end_range = int(range_end)\n",
        "\n",
        "# Step 2: check if input is valid\n",
        "if start_range >= end_range:\n",
        "  print(f\"Invalid range {start_range} and {end_range}.\"\n",
        "  \"End of range must be greater than start.\")\n",
        "  exit()\n",
        "\n",
        "# Step 3: Initialize the numbr variable to start a flag to check if any\n",
        "# prime number is found\n",
        "prime_found = False\n",
        "number = start_range\n",
        "\n",
        "#Print prime numbers within the range\n",
        "print(f\"Prime numbers in the range {start_range:02d} to {end_range:02d}: \")\n",
        "\n",
        "#Step 4: while loop to check the prime number with-in the range\n",
        "while number >= start_range and number <= end_range:\n",
        "  if number>1:\n",
        "    is_prime = True\n",
        "    # Step 5: Nested for loop to check the variable number is a prime.\n",
        "    # Logic used is starting from 2 till the sqrt of variable number,\n",
        "    # check the modulus. If reminder is 0 the number is prime.\n",
        "    for devisor in range(2, int(number ** 0.5) + 1):\n",
        "      if number % devisor == 0:\n",
        "        is_prime =False\n",
        "        break\n",
        "    if is_prime :\n",
        "      prime_found = True\n",
        "      print(number, end = \" \")\n",
        "\n",
        "  number = number + 1\n",
        "\n",
        "# Step 6: If no prime numbers are found, print a message\n",
        "if not prime_found:\n",
        "  print(f\"No prime numbers found in the specified range.\")\n"
      ],
      "metadata": {
        "colab": {
          "base_uri": "https://localhost:8080/"
        },
        "id": "iJA0RzTOxLSz",
        "outputId": "e602d7d1-ba6d-4bd3-a7a5-3d55beea2cfb"
      },
      "execution_count": null,
      "outputs": [
        {
          "output_type": "stream",
          "name": "stdout",
          "text": [
            "Enter the start of the range: 14\n",
            "Enter the end of the range: `6\n",
            "Prime numbers in the range 14 to 16: \n",
            "No prime numbers found in the specified range.\n"
          ]
        }
      ]
    },
    {
      "cell_type": "markdown",
      "source": [
        "### PROG 4.2: Prime Numbers using for loop and range function\n",
        "\n",
        "Write a program that takes a range of numbers as input and using the for loop with a given range to output the Prime Numbers."
      ],
      "metadata": {
        "id": "b27tqWE34thD"
      }
    },
    {
      "cell_type": "code",
      "source": [
        "# PROG 4.2: Prime Numbers using for loop and range function\n",
        "\n",
        "# Step 1: Prompt user for input\n",
        "range_start= input(\"ENter the start of the range: \")\n",
        "range_end = input(\"Enter the end of the range: \")\n",
        "\n",
        "# Checking if the input is digit\n",
        "if range_start.isdigit():\n",
        "  # Convert input to integer and assign it to the local variable year\n",
        "  start_range = int(range_start)\n",
        "\n",
        "if range_end.isdigit():\n",
        "  end_range = int(range_end)\n",
        "\n",
        "#  Step 2: Check if input is valid\n",
        "if start_range >=end_range:\n",
        "  print(f\"Invalid range {start_range} and {end_range}.\"\n",
        "  f\"ENd of the range must be greater than start range.\")\n",
        "  exit()\n",
        "\n",
        "# Step 3: Initialize the number variable to start a flag to check if any\n",
        "#prime number is found\n",
        "prime_found = False\n",
        "number = start_range\n",
        "\n",
        "# Print prime numbers with in the range\n",
        "print(f\"Prime numbers in the range {start_range:02d} to {end_range:02d} \")\n",
        "\n",
        "#Step 4: for loop to check the prime number with-in the range\n",
        "for number in range(start_range, end_range +1):\n",
        "  if number>1:\n",
        "    is_prime = True\n",
        "    # Step 5: Nested for loop to check the variable number is a prime.\n",
        "    # Logic used is starting from 2 till the sqrt of variable number,\n",
        "    # check the modulus. If reminder is 0 the number is prime.\n",
        "    for devisor in range(2, int(number ** 0.5) +1):\n",
        "      if number % devisor == 0:\n",
        "        is_prime = False\n",
        "        break\n",
        "    if is_prime:\n",
        "      prime_found = True\n",
        "      print(number, end = \" \")\n",
        "    #number = number+ 1\n",
        "# Step 6: If no prime numbers are found, print a message\n",
        "if not prime_found:\n",
        "  print(\"No prime numbers found in the specified range.\")\n"
      ],
      "metadata": {
        "colab": {
          "base_uri": "https://localhost:8080/"
        },
        "id": "iC1x6nCq3pYR",
        "outputId": "7fe4628b-ebc5-43e0-d886-5b2741f8e10f"
      },
      "execution_count": null,
      "outputs": [
        {
          "output_type": "stream",
          "name": "stdout",
          "text": [
            "ENter the start of the range: 11\n",
            "Enter the end of the range: 13\n",
            "Prime numbers in the range 11 to 13 \n",
            "11 13 "
          ]
        }
      ]
    },
    {
      "cell_type": "markdown",
      "source": [
        "### PROG 4.3: Prime Numbers using Python function\n",
        "\n",
        "Write a program that takes a range of numbers as input and uses python function to check if number is prime.\n",
        "\n",
        "**CODIN CONCEPT**\n",
        "\n",
        "> **1: Object Calisthenics -** is a set of 9 rules focussed to ensure code has maintainability, readability, testability, and comprehensibility of your code. One of the rule is reduce Nested Loop and Condition by defining function\n",
        "\n",
        "> **2: Python Functions -** A function is a block of code which only runs when it is called. You can pass data, known as parameters, into a function.\n"
      ],
      "metadata": {
        "id": "2MlJmIqo3p_m"
      }
    },
    {
      "cell_type": "code",
      "source": [
        "# PROG 4.3: Prime Numbers using Python function\n",
        "\n",
        "def isprime(number):\n",
        "  if number == 1:\n",
        "    return False\n",
        "  for devisor in range(2, int(number**0.5) +1) :\n",
        "    if number % devisor ==0:\n",
        "      return False\n",
        "  return True\n",
        "\n",
        "#prompt user for input\n",
        "start = int(input(\"Enter the start of the range: \"))\n",
        "end = int(input(\"Enter the end of the range: \"))\n",
        "\n",
        "# Check if input is valid\n",
        "if start >= end:\n",
        "  print(f\"Invalid range. End of the range must be greater than start.\")\n",
        "  exit()\n",
        "\n",
        "# Initialize a flag to check if any prime number is found\n",
        "prime_numbers = []\n",
        "\n",
        "#print prime numbers within the range\n",
        "for number in range(start, end + 1):\n",
        "  isprime(number) and prime_numbers.append(number)\n",
        "\n",
        "if len(prime_numbers) >0 :\n",
        "  print(f\"Prime numbers in the range {start} to {end} are: {prime_numbers}\")\n",
        "else:\n",
        "  print(f\"No prime numbers found in the specified range {start} to {end}.\")"
      ],
      "metadata": {
        "id": "LRsj_wafuoue",
        "outputId": "a4cb7453-01c2-45ad-88b1-8feaf7ea1943",
        "colab": {
          "base_uri": "https://localhost:8080/"
        }
      },
      "execution_count": null,
      "outputs": [
        {
          "output_type": "stream",
          "name": "stdout",
          "text": [
            "Enter the start of the range: 2\n",
            "Enter the end of the range: 10\n",
            "Prime numbers in the range 2 to 10 are: [2, 3, 5, 7]\n"
          ]
        }
      ]
    },
    {
      "cell_type": "markdown",
      "source": [
        "## PROG 5: Windchill Program\n",
        "\n",
        "Create a program that computes Heat Index or Wind Chill depending on month.\n",
        "\n",
        "1. First takes a month number as an input (1 to 12).\n",
        "\n",
        "2. If the month is  November / December / January or February, it takes temperature in Fahrenheit and wind speed in miles per hour and computes WindChill.\n",
        "\n",
        "3. Given the temperature (in Fahrenheit) and the wind speed (in miles per hour), the National Weather Service defines the effective the wind chill temperature to be as shown in code snippet below :\n",
        "```\n",
        "wind_chill = 35.74 + 0.6215 * temperature - 35.75 * (wind_speed ** 0.16) + 0.4275 * temperature * (wind_speed ** 0.16)\n",
        "```\n",
        "4. **Note:** the formula is not valid if temperature is larger than 50 in absolute value or if wind speed is larger than 120 or less than 3.\n",
        "\n",
        "\n",
        "<br>**TEST CASES -** Please ensure to test with following Test Cases\n",
        "\n",
        "> **Test Case: 1 -**\n",
        "- **Input =>** Enter the month number (1 to 12): 4\n",
        "- **Output =>** `Wind chill computation is not applicable for month 4.`\n",
        "\n",
        "> **Test Case: 2 -**\n",
        "- **Input =>** Enter the month number (1 to 12): Test\n",
        "- **Output =>** `Wind chill computation is not applicable for month Test.`\n",
        "\n",
        "> **Test Case: 3 -**\n",
        "- **Input =>**\n",
        "<br>Enter the month number (1 to 12): 1\n",
        "<br>Enter the temperature between -50 and 50 °F: test\n",
        "<br>Enter the wind speed between 3 and 120 mph: 100\n",
        "- **Output =>** `Invalid input test. Enter Valid Temperature`\n",
        "\n",
        "> **Test Case: 4 -**\n",
        "- **Input =>**\n",
        "<br>Enter the month number (1 to 12): 1\n",
        "<br>Enter the temperature between -50 and 50 °F: 100\n",
        "<br>Enter the wind speed between 3 and 120 mph: 100\n",
        "- **Output =>** `Invalid input. Temperature 100.0 must be between -50 and 50 °F, and wind speed 100.0 between 3 and 120 mph.`\n",
        "\n",
        "> **Test Case: 5 -**\n",
        "- **Input =>**\n",
        "<br>Enter the month number (1 to 12): 1\n",
        "<br>Enter the temperature between -50 and 50 °F: 50\n",
        "<br>Enter the wind speed between 3 and 120 mph: test\n",
        "- **Output =>** `Invalid input test. Enter Valid Wind Speed`\n",
        "\n",
        "> **Test Case: 6 -**\n",
        "- **Input =>**\n",
        "<br>Enter the month number (1 to 12): 1\n",
        "<br>Enter the temperature between -50 and 50 °F: 0\n",
        "<br>Enter the wind speed between 3 and 120 mph: 150\n",
        "- **Output =>** `Invalid input. Temperature 0.0 must be between -50 and 50 °F, and wind speed 150.0 between 3 and 120 mph.`\n",
        "\n",
        "> **Test Case: 7 -**\n",
        "- **Input =>**\n",
        "<br>Enter the month number (1 to 12): 1\n",
        "<br>Enter the temperature between -50 and 50 °F: 0\n",
        "<br>Enter the wind speed between 3 and 120 mph: 100\n",
        "- **Output =>** `Wind Chill: -38.95 °F for Month 1 with temperature 0.0 and wind speed 100.0`\n",
        "\n",
        "\n",
        "\n",
        "> **Hint =>**\n",
        "1. Check if the user entry is correct\n",
        "2. Checking if the month is 11, 12, 1, 2\n",
        "3. Checking if temperature is between -50 and 50 °F\n",
        "4. Checking if wind speed is between 3 and 120 mph\n",
        "5. Using None type to initialize the variable and set it only if the entry is proper\n",
        "6. If month, temperature and wind speed are in range then only compute the wind chill\n"
      ],
      "metadata": {
        "id": "uUHih9HD4ACd"
      }
    },
    {
      "cell_type": "code",
      "source": [
        "# PROG 5: Windchill Program\n",
        "\n",
        "# Step 1: Prompt user for month\n",
        "month_entered = input(\"Enter the month number (1 to 12): \")\n",
        "\n",
        "#Step 2: Checking if the month is digit else setting to none\n",
        "month =None\n",
        "if month_entered.isdecimal() or month_entered.isdigit() :\n",
        "  month = int(month_entered)\n",
        "\n",
        "# Step 3: Checking valid months for wind chill calculation\n",
        "if month is not None and month in [11, 12, 1, 2]:\n",
        "\n",
        "  # Step 4: Prompt user for temperature and wind speed\n",
        "  temperature_entered = input(\"Enter the temperature between -50 and 50 °F: \")\n",
        "  wind_speed_entered = input(\"Enter the wind speed between 3 and 120 mph: \")\n",
        "\n",
        "  # Step 5: Checking validity of temperature and wind speed entered. If the\n",
        "  # entry is correct them converting to float else setting to None\n",
        "  temperature = None\n",
        "  if temperature_entered.isdecimal() or temperature_entered.isdigit():\n",
        "    temperature = float(temperature_entered)\n",
        "\n",
        "  wind_speed = None\n",
        "  if wind_speed_entered.isdecimal() or wind_speed_entered.isdigit() :\n",
        "    wind_speed = float(wind_speed_entered)\n",
        "\n",
        "  # Step 6: Check if temperature and wind speed are valid\n",
        "  if temperature is None:\n",
        "    print(f\"Invalid input {temperature_entered}. Enter Valid Teperature\")\n",
        "  elif wind_speed is None:\n",
        "    print(f\"Invalid input {wind_speed_entered}. Enter Valid Wind Speed\")\n",
        "  # Step 7: Check if temperature and wind speed are within the valid range\n",
        "  elif abs(temperature) > 50 or wind_speed < 3 or wind_speed > 120 :\n",
        "    print(f\"Invalid input. Temperature {temperature} must be between -50°F\",\n",
        "          f\"and 50°F, and wind speed {wind_speed} between 3 and 120 mph.\")\n",
        "  else:\n",
        "    #Step 8: Compute wind chill\n",
        "    wind_chill = (35.74 + 0.6215 * temperature - 35.75 * (wind_speed ** 0.16)\n",
        "                  +0.4275 * temperature * (wind_speed ** 0.16))\n",
        "    print(f\"Wind Chill: {wind_chill:.2f} °F for Month {month} with\",\n",
        "          f\"temperature {temperature} and wind speed {wind_speed}\")\n",
        "else:\n",
        "  print(f\"wind chill computation is not applicable for month {month_entered}.\")\n",
        "\n"
      ],
      "metadata": {
        "colab": {
          "base_uri": "https://localhost:8080/"
        },
        "id": "CASa2fhjPmpq",
        "outputId": "74bf853c-566b-40d6-ea7c-9fb85dc81813"
      },
      "execution_count": null,
      "outputs": [
        {
          "output_type": "stream",
          "name": "stdout",
          "text": [
            "Enter the month number (1 to 12): 1\n",
            "Enter the temperature between -50 and 50 °F: 0\n",
            "Enter the wind speed between 3 and 120 mph: 100\n",
            "Wind Chill: -38.95 °F for Month 1 with temperature 0.0 and wind speed 100.0\n"
          ]
        }
      ]
    },
    {
      "cell_type": "markdown",
      "source": [
        "## PROG 6: School Report App\n",
        "\n",
        "**School Report App Part 1: -** For a school - “New School Of Learning '', create a program where individual results of each student of the class XI are generated and also a summary of the class is created.  \n",
        "\n",
        "Get 3 student names\n",
        "For each student, get physics, chemistry and mathematics marks  out of 50.\n",
        "Publish the results on screen for all of the  students . Result should have School name, Student name and Class Name in the heading.\n",
        "\n",
        "Then in tabular manner print subject, marks obtained, % of marks\n",
        "Also total marks obtained and total percentage at the end of table.\n",
        "\n",
        "For school summary - generate class average of each subject and overall average\n",
        "\n",
        "<br>**TEST CASES -** Please ensure to test with following Test Cases\n",
        "\n",
        "> **Test Case: 1 -**\n",
        "- **Input =>** Enter name of student 1:\n",
        "- **Output =>** `Invalid Input: Student Name .`\n",
        "\n",
        "> **Test Case: 2 -**\n",
        "- **Input =>** Enter name of student 1: 123\n",
        "- **Output =>** `Invalid Input: Student Name 123.`\n",
        "\n",
        "> **Test Case: 3 -**\n",
        "- **Input =>**\n",
        "<br>Enter name of student 1: Narayan\n",
        "<br>Enter Physics marks out of 50 for student 1: Test\n",
        "<br>Enter Chemistry marks out of 50 for student 1: 45\n",
        "<br>Enter Mathematics marks out of 50 for student 1: 30\n",
        "- **Output =>** `Invalid Input: Physics Mark: Test, Chemistry Marks: 45 or Maths Marks: 30`\n",
        "\n",
        "> **Test Case: 4 -**\n",
        "- **Input =>**\n",
        "<br>Enter name of student 1: Narayan\n",
        "<br>Enter Physics marks out of 50 for student 1:\n",
        "<br>Enter Chemistry marks out of 50 for student 1: 45\n",
        "<br>Enter Mathematics marks out of 50 for student 1: 30\n",
        "- **Output =>** `Invalid Input: Physics Mark: , Chemistry Marks: 45 or Maths Marks: 30`\n",
        "\n",
        "> **Test Case: 5 -**\n",
        "- **Input =>**\n",
        "<br>Enter name of student 1: Narayan\n",
        "<br>Enter Physics marks out of 50 for student 1: 35\n",
        "<br>Enter Chemistry marks out of 50 for student 1: -1\n",
        "<br>Enter Mathematics marks out of 50 for student 1: 30\n",
        "- **Output =>** `Invalid Input: Physics Mark: 35, Chemistry Marks: -1 or Maths Marks: 30`\n",
        "\n",
        "> **Test Case: 6 -**\n",
        "- **Input =>**\n",
        "<br>Enter name of student 1: Narayan\n",
        "<br>Enter Physics marks out of 50 for student 1: 35\n",
        "<br>Enter Chemistry marks out of 50 for student 1: -1\n",
        "<br>Enter Mathematics marks out of 50 for student 1: 30\n",
        "- **Output =>** `Invalid Input: Physics Mark: 35, Chemistry Marks: -1 or Maths Marks: 30`\n",
        "\n",
        "> **Test Case: 7 -**\n",
        "- **Input =>**\n",
        "<br>Enter name of student 1: Narayan\n",
        "<br>Enter Physics marks out of 50 for student 1: 35\n",
        "<br>Enter Chemistry marks out of 50 for student 1: 45\n",
        "<br>Enter Mathematics marks out of 50 for student 1: 55\n",
        "- **Output =>** `Invalid Input: Physics Mark: 35, Chemistry Marks: 45 or Maths Marks: 55`\n",
        "\n",
        "<br>\n",
        "\n",
        "> **Test Case: 8 -** With Proper Inputs and Outputs\n",
        "\n",
        "```\n",
        "Enter name of student 1: Narayan\n",
        "Enter Physics marks out of 50 for student 1: 35\n",
        "Enter Chemistry marks out of 50 for student 1: 45\n",
        "Enter Mathematics marks out of 50 for student 1: 30\n",
        "\n",
        "New School Of Learning - Class XI - Narayan\n",
        "------------------------------------------------------------------------\n",
        "|     Subject     |   Total Marks   | Marks Obtained  |   Percentage    |\n",
        "------------------------------------------------------------------------\n",
        "|     Physics     |       50        |       35        |      70.0       |\n",
        "|    Chemistry    |       50        |       45        |      90.0       |\n",
        "|   Mathematics   |       50        |       30        |      60.0       |\n",
        "------------------------------------------------------------------------\n",
        "|      Total      |       150       |       110       |      73.33      |\n",
        "------------------------------------------------------------------------\n",
        "\n",
        "Enter name of student 2: Karthik\n",
        "Enter Physics marks out of 50 for student 2: 40\n",
        "Enter Chemistry marks out of 50 for student 2: 40\n",
        "Enter Mathematics marks out of 50 for student 2: 45\n",
        "\n",
        "New School Of Learning - Class XI - Karthik\n",
        "------------------------------------------------------------------------\n",
        "|     Subject     |   Total Marks   | Marks Obtained  |   Percentage    |\n",
        "------------------------------------------------------------------------\n",
        "|     Physics     |       50        |       40        |      80.0       |\n",
        "|    Chemistry    |       50        |       40        |      80.0       |\n",
        "|   Mathematics   |       50        |       45        |      90.0       |\n",
        "------------------------------------------------------------------------\n",
        "|      Total      |       150       |       125       |      83.33      |\n",
        "------------------------------------------------------------------------\n",
        "\n",
        "Enter name of student 3: Vidya\n",
        "Enter Physics marks out of 50 for student 3: 40\n",
        "Enter Chemistry marks out of 50 for student 3: 45\n",
        "Enter Mathematics marks out of 50 for student 3: 40\n",
        "\n",
        "New School Of Learning - Class XI - Vidya\n",
        "------------------------------------------------------------------------\n",
        "|     Subject     |   Total Marks   | Marks Obtained  |   Percentage    |\n",
        "------------------------------------------------------------------------\n",
        "|     Physics     |       50        |       40        |      80.0       |\n",
        "|    Chemistry    |       50        |       45        |      90.0       |\n",
        "|   Mathematics   |       50        |       40        |      80.0       |\n",
        "------------------------------------------------------------------------\n",
        "|      Total      |       150       |       125       |      83.33      |\n",
        "------------------------------------------------------------------------\n",
        "\n",
        "Class Average And Percentage for Each Subject:\n",
        "Physics Average is 38.33 and Percentage is 76.67%\n",
        "Chemistry Average is 43.33 and Percentage is 86.67%\n",
        "Mathematics Average is 38.33 and Percentage is 76.67%\n",
        "Overall Percentage: 80.00%\n",
        "```\n"
      ],
      "metadata": {
        "id": "QJOMsxHZXDIY"
      }
    },
    {
      "cell_type": "markdown",
      "source": [
        "**CODIN STEPS**\n",
        "\n",
        "> **Step 1: -** Specifying Constants for School, Class, subjects marks, total, and number of students\n",
        "\n",
        "> **Step 2: -** Defining Global Variables for subject-wise total marks along with class average and percentage and initialize to 0\n",
        "\n",
        "> **Step 3: -** Loop through each student to get input and calculate total marks\n",
        "\n",
        "> **Step 4: -** Get student name, if Not valid then breaking the loop\n",
        "\n",
        "> **Step 5: -** Get student name , physics, chemistry and maths marks for Student. Validate the input and Calculate total marks for student\n",
        "\n",
        "> **Step 6: -** Calculating physics, chemistry and maths percentage for student\n",
        "\n",
        "> **Step 7: -** Calculate total marks and overall marks obtained by all students in each subject\n",
        "\n",
        "> **Step 8: -** Print results for student\n",
        "\n",
        "> **Step 9: -** Calculate class averages for each subject if overall student marks is not None\n",
        "\n",
        "> **Step 10: -** Calculate the class average percentage for each subject\n",
        "\n",
        "> **Step 11: -** Calculate overall percentage\n",
        "\n",
        "> **Step 12: -** Print the class average percentage for each subject\n"
      ],
      "metadata": {
        "id": "egbae9sji9q9"
      }
    },
    {
      "cell_type": "markdown",
      "source": [
        "### PROG 6.1: School Report App Post Refactoring"
      ],
      "metadata": {
        "id": "efg8v8J3wBFN"
      }
    },
    {
      "cell_type": "code",
      "source": [
        "4# PROG 6: School Report App\n",
        "\n",
        "# Step 1; Specifying Constants for School, Class, subjects marks,\n",
        "# total, and number of students\n",
        "\n",
        "SCHOOL_NAME = \"New School Of Learning\"\n",
        "CLASS_NAME = \"Class XI\"\n",
        "TOTAL_SUBJECT_MARKS = 50\n",
        "TOTAL_MARKS = TOTAL_SUBJECT_MARKS*3\n",
        "NUMBER_STUDENTS = 3\n",
        "\n",
        "# Step 2: Defining Global Variables for subject-wise total marks along with\n",
        "# class average and percentage and initializing the same to 0\n",
        "total_phys_marks = total_chem_marks = total_math_marks = 0\n",
        "class_phys_avg = class_chem_avg = class_math_avg = 0.0\n",
        "class_phys_perc = class_chem_perc = class_math_perc = 0.0\n",
        "overall_total_student_marks = overall_perc = 0\n",
        "\n",
        "# Step 3: Loop through each student to get input and calculate total marks\n",
        "for i in range(NUMBER_STUDENTS):\n",
        "\n",
        "  # Step 4: Get student name, if Not valid then breaking the loop\n",
        "  student_name = input(f\"Enter name of student {i+1}: \")\n",
        "  if len(student_name) == 0 or student_name.isalpha() == False :\n",
        "    print(f\"Invalid Input: Student Name {student_name}\")\n",
        "    overall_total_student_marks = None\n",
        "    break;\n",
        "\n",
        "  # Step 5: Get student name , physics, chemistry and maths marks for Student.\n",
        "  # Validate the input and Calculate total marks for student\n",
        "  phys_marks_entered = input(f\"Enter Physics marks out of 50 for student {i+1}: \")\n",
        "  chem_marks_entered = input(f\"Enter Chemistry marks out of 50 for student {i+1}: \")\n",
        "  math_marks_entered = input(f\"Enter Mathematics marks out of 50 for student {i+1}: \")\n",
        "\n",
        "  student_phys_marks = (phys_marks_entered.isdigit() and\n",
        "                        int(phys_marks_entered) or None)\n",
        "  student_chem_marks = (chem_marks_entered.isdigit() and\n",
        "                        int(chem_marks_entered) or None)\n",
        "  student_math_marks = (math_marks_entered.isdigit() and\n",
        "                        int(math_marks_entered) or None)\n",
        "\n",
        "  if (student_phys_marks is None or 0 < student_phys_marks > 50 or\n",
        "      student_chem_marks is None or 0 < student_chem_marks > 50 or\n",
        "      student_math_marks is None or 0 < student_math_marks > 50) :\n",
        "      overall_total_student_marks = None\n",
        "      print(f\"Invalid Input: Physics Mark: {phys_marks_entered}, Chemistry\",\n",
        "            f\"Marks: {chem_marks_entered} or Maths Marks: {math_marks_entered}\")\n",
        "      break;\n",
        "\n",
        "  total_student_marks = student_phys_marks + student_chem_marks + student_math_marks\n",
        "\n",
        "  # Step 6: Calculating physics, chemistry and maths percentage for student\n",
        "  student_phys_perc = round((student_phys_marks / TOTAL_SUBJECT_MARKS) * 100, 2)\n",
        "  student_chem_perc = round((student_chem_marks / TOTAL_SUBJECT_MARKS) * 100, 2)\n",
        "  student_math_perc = round((student_math_marks / TOTAL_SUBJECT_MARKS) * 100, 2)\n",
        "\n",
        "  # Step 7: Calculate total marks and overall marks obtained by all\n",
        "  # students in each subject\n",
        "  total_phys_marks += student_phys_marks\n",
        "  total_chem_marks += student_chem_marks\n",
        "  total_math_marks += student_math_marks\n",
        "  overall_total_student_marks += total_student_marks\n",
        "\n",
        "  # Step 8: Print results for student\n",
        "  print(f\"\\n{SCHOOL_NAME} - {CLASS_NAME} - {student_name}\")\n",
        "  print(f\"{'-' * 72}\")\n",
        "  print(f\"| {'Subject':^15} | {'Total Marks':^15} | {'Marks Obtained':^15} | {'Percentage':^15} |\")\n",
        "  print(f\"{'-' * 72}\")\n",
        "  print(f\"| {'Physics':^15} | {TOTAL_SUBJECT_MARKS:^15} | {student_phys_marks:^15}\",\n",
        "        f\"| {student_phys_perc:^15} |\")\n",
        "  print(f\"| {'Chemistry':^15} | {TOTAL_SUBJECT_MARKS:^15} | {student_chem_marks:^15}\",\n",
        "        f\"| {student_chem_perc:^15} |\")\n",
        "  print(f\"| {'Mathematics':^15} | {TOTAL_SUBJECT_MARKS:^15} | {student_math_marks:^15}\",\n",
        "        f\"| {student_math_perc:^15} |\")\n",
        "  print(f\"{'-' * 72}\")\n",
        "  print(f\"| {'Total':^15} | {TOTAL_MARKS:^15} | {total_student_marks:^15}\",\n",
        "        f\"| {round((total_student_marks / TOTAL_MARKS) * 100, 2):^15} |\")\n",
        "  print(f\"{'-' * 72}\\n\")\n",
        "\n",
        "if overall_total_student_marks is not None :\n",
        "  # Step 9: Calculate class averages for each subject if overall student\n",
        "  # marks is not None\n",
        "  class_phys_avg = total_phys_marks / NUMBER_STUDENTS\n",
        "  class_chem_avg = total_chem_marks / NUMBER_STUDENTS\n",
        "  class_math_avg = total_math_marks / NUMBER_STUDENTS\n",
        "\n",
        "  # Step 10: Calculate the class average percentage for each subject\n",
        "  class_phys_perc = (class_phys_avg / TOTAL_SUBJECT_MARKS) * 100\n",
        "  class_chem_perc = (class_chem_avg / TOTAL_SUBJECT_MARKS) * 100\n",
        "  class_math_perc = (class_math_avg / TOTAL_SUBJECT_MARKS) * 100\n",
        "\n",
        "  # Step 11: Calculate overall percentage\n",
        "  overall_perc = (overall_total_student_marks / (NUMBER_STUDENTS * TOTAL_MARKS)) * 100\n",
        "\n",
        "  # Step 12: Print the class average percentage for each subject\n",
        "  print(\"Class Average And Percentage for Each Subject:\")\n",
        "  print(f\"Physics Average is {class_phys_avg:.2f} and Percentage is {class_phys_perc:.2f}%\")\n",
        "  print(f\"Chemistry Average is {class_chem_avg:.2f} and Percentage is {class_chem_perc:.2f}%\")\n",
        "  print(f\"Mathematics Average is {class_math_avg:.2f} and Percentage is {class_math_perc:.2f}%\")\n",
        "  print(f\"Overall Percentage: {overall_perc:.2f}%\")\n"
      ],
      "metadata": {
        "colab": {
          "base_uri": "https://localhost:8080/"
        },
        "id": "1q88-lSBZJAb",
        "outputId": "b4b174b2-fd6f-44d4-e5db-fc14309e4923"
      },
      "execution_count": null,
      "outputs": [
        {
          "output_type": "stream",
          "name": "stdout",
          "text": [
            "Enter name of student 1: Narayan\n",
            "Enter Physics marks out of 50 for student 1: 35\n",
            "Enter Chemistry marks out of 50 for student 1: 45\n",
            "Enter Mathematics marks out of 50 for student 1: 30\n",
            "\n",
            "New School Of Learning - Class XI - Narayan\n",
            "------------------------------------------------------------------------\n",
            "|     Subject     |   Total Marks   | Marks Obtained  |   Percentage    |\n",
            "------------------------------------------------------------------------\n",
            "|     Physics     |       50        |       35        |      70.0       |\n",
            "|    Chemistry    |       50        |       45        |      90.0       |\n",
            "|   Mathematics   |       50        |       30        |      60.0       |\n",
            "------------------------------------------------------------------------\n",
            "|      Total      |       150       |       110       |      73.33      |\n",
            "------------------------------------------------------------------------\n",
            "\n",
            "Enter name of student 2: Kartik\n",
            "Enter Physics marks out of 50 for student 2: 40\n",
            "Enter Chemistry marks out of 50 for student 2: 40\n",
            "Enter Mathematics marks out of 50 for student 2: 45\n",
            "\n",
            "New School Of Learning - Class XI - Kartik\n",
            "------------------------------------------------------------------------\n",
            "|     Subject     |   Total Marks   | Marks Obtained  |   Percentage    |\n",
            "------------------------------------------------------------------------\n",
            "|     Physics     |       50        |       40        |      80.0       |\n",
            "|    Chemistry    |       50        |       40        |      80.0       |\n",
            "|   Mathematics   |       50        |       45        |      90.0       |\n",
            "------------------------------------------------------------------------\n",
            "|      Total      |       150       |       125       |      83.33      |\n",
            "------------------------------------------------------------------------\n",
            "\n",
            "Enter name of student 3: Vidya\n",
            "Enter Physics marks out of 50 for student 3: 40\n",
            "Enter Chemistry marks out of 50 for student 3: 45\n",
            "Enter Mathematics marks out of 50 for student 3: 40\n",
            "\n",
            "New School Of Learning - Class XI - Vidya\n",
            "------------------------------------------------------------------------\n",
            "|     Subject     |   Total Marks   | Marks Obtained  |   Percentage    |\n",
            "------------------------------------------------------------------------\n",
            "|     Physics     |       50        |       40        |      80.0       |\n",
            "|    Chemistry    |       50        |       45        |      90.0       |\n",
            "|   Mathematics   |       50        |       40        |      80.0       |\n",
            "------------------------------------------------------------------------\n",
            "|      Total      |       150       |       125       |      83.33      |\n",
            "------------------------------------------------------------------------\n",
            "\n",
            "Class Average And Percentage for Each Subject:\n",
            "Physics Average is 38.33 and Percentage is 76.67%\n",
            "Chemistry Average is 43.33 and Percentage is 86.67%\n",
            "Mathematics Average is 38.33 and Percentage is 76.67%\n",
            "Overall Percentage: 80.00%\n"
          ]
        }
      ]
    },
    {
      "cell_type": "markdown",
      "source": [
        "### PROG 6.2: School Report App Original Code\n",
        "\n",
        "This is the original code written. Here the code of capturing user input, computing the percentages and finally displaying the result was repeated 3 times for 3 different students. If we have to scale to 10 students the number of lines of codes will hugely increase. This is violation of DRY principle **DONT REPEAT YOURSELF** The code is here for ref..."
      ],
      "metadata": {
        "id": "Ih2vNr-rZxV5"
      }
    },
    {
      "cell_type": "code",
      "source": [
        "# PROG 6.1: School Report App Original Code\n",
        "\n",
        "# Step 1; Specifying Constants for School, Class, subjects marks,\n",
        "# total, and number of students\n",
        "\n",
        "SCHOOL_NAME = \"New School Of Learning\"\n",
        "CLASS_NAME = \"Class XI\"\n",
        "TOTAL_SUBJECT_MARKS = 50\n",
        "TOTAL_MARKS = TOTAL_SUBJECT_MARKS*3\n",
        "NUMBER_STUDENTS = 3\n",
        "\n",
        "# Step 2: Defining Global Variables for subject-wise total marks along with\n",
        "# class average and percentage and initializing the same to 0\n",
        "total_phys_marks = total_chem_marks = total_math_marks = 0\n",
        "class_phys_avg = class_chem_avg = class_math_avg = 0.0\n",
        "class_phys_perc = class_chem_perc = class_math_perc = 0.0\n",
        "overall_total_student_marks = overall_perc = 0\n",
        "\n",
        "# Step 3: Loop through each student to get input and calculate total marks\n",
        "for i in range(NUMBER_STUDENTS):\n",
        "\n",
        "  # Step 4: Get student name, if Not valid then breaking the loop\n",
        "  student_name = input(f\"Enter name of student {i+1}: \")\n",
        "  if len(student_name) == 0 or student_name.isalpha() == False :\n",
        "    print(f\"Invalid Input: Student Name {student_name}\")\n",
        "    overall_total_student_marks = None\n",
        "    break;\n",
        "\n",
        "  # Step 5: Get student name , physics, chemistry and maths marks for Student.\n",
        "  # Validate the input and Calculate total marks for student\n",
        "  phys_marks_entered = input(f\"Enter Physics marks out of 50 for student {i+1}: \")\n",
        "  chem_marks_entered = input(f\"Enter Chemistry marks out of 50 for student {i+1}: \")\n",
        "  math_marks_entered = input(f\"Enter Mathematics marks out of 50 for student {i+1}: \")\n",
        "\n",
        "  student_phys_marks = (phys_marks_entered.isdigit() and\n",
        "                        int(phys_marks_entered) or None)\n",
        "  student_chem_marks = (chem_marks_entered.isdigit() and\n",
        "                        int(chem_marks_entered) or None)\n",
        "  student_math_marks = (math_marks_entered.isdigit() and\n",
        "                        int(math_marks_entered) or None)\n",
        "\n",
        "  if (student_phys_marks is None or 0 < student_phys_marks > 50 or\n",
        "      student_chem_marks is None or 0 < student_chem_marks > 50 or\n",
        "      student_math_marks is None or 0 < student_math_marks > 50) :\n",
        "      overall_total_student_marks = None\n",
        "      print(f\"Invalid Input: Physics Mark: {phys_marks_entered}, Chemistry\",\n",
        "            f\"Marks: {chem_marks_entered} or Maths Marks: {math_marks_entered}\")\n",
        "      break;\n",
        "\n",
        "  total_student_marks = student_phys_marks + student_chem_marks + student_math_marks\n",
        "\n",
        "  # Step 6: Calculating physics, chemistry and maths percentage for student\n",
        "  student_phys_perc = round((student_phys_marks / TOTAL_SUBJECT_MARKS) * 100, 2)\n",
        "  student_chem_perc = round((student_chem_marks / TOTAL_SUBJECT_MARKS) * 100, 2)\n",
        "  student_math_perc = round((student_math_marks / TOTAL_SUBJECT_MARKS) * 100, 2)\n",
        "\n",
        "  # Step 7: Calculate total marks and overall marks obtained by all\n",
        "  # students in each subject\n",
        "  total_phys_marks += student_phys_marks\n",
        "  total_chem_marks += student_chem_marks\n",
        "  total_math_marks += student_math_marks\n",
        "  overall_total_student_marks += total_student_marks\n",
        "\n",
        "  # Step 8: Print results for student\n",
        "  print(f\"\\n{SCHOOL_NAME} - {CLASS_NAME} - {student_name}\")\n",
        "  print(f\"{'-' * 72}\")\n",
        "  print(f\"| {'Subject':^15} | {'Total Marks':^15} | {'Marks Obtained':^15} | {'Percentage':^15} |\")\n",
        "  print(f\"{'-' * 72}\")\n",
        "  print(f\"| {'Physics':^15} | {TOTAL_SUBJECT_MARKS:^15} | {student_phys_marks:^15}\",\n",
        "        f\"| {student_phys_perc:^15} |\")\n",
        "  print(f\"| {'Chemistry':^15} | {TOTAL_SUBJECT_MARKS:^15} | {student_chem_marks:^15}\",\n",
        "        f\"| {student_chem_perc:^15} |\")\n",
        "  print(f\"| {'Mathematics':^15} | {TOTAL_SUBJECT_MARKS:^15} | {student_math_marks:^15}\",\n",
        "        f\"| {student_math_perc:^15} |\")\n",
        "  print(f\"{'-' * 72}\")\n",
        "  print(f\"| {'Total':^15} | {TOTAL_MARKS:^15} | {total_student_marks:^15}\",\n",
        "        f\"| {round((total_student_marks / TOTAL_MARKS) * 100, 2):^15} |\")\n",
        "  print(f\"{'-' * 72}\\n\")\n",
        "\n",
        "if overall_total_student_marks is not None :\n",
        "  # Step 9: Calculate class averages for each subject if overall student\n",
        "  # marks is not None\n",
        "  class_phys_avg = total_phys_marks / NUMBER_STUDENTS\n",
        "  class_chem_avg = total_chem_marks / NUMBER_STUDENTS\n",
        "  class_math_avg = total_math_marks / NUMBER_STUDENTS\n",
        "\n",
        "  # Step 10: Calculate the class average percentage for each subject\n",
        "  class_phys_perc = (class_phys_avg / TOTAL_SUBJECT_MARKS) * 100\n",
        "  class_chem_perc = (class_chem_avg / TOTAL_SUBJECT_MARKS) * 100\n",
        "  class_math_perc = (class_math_avg / TOTAL_SUBJECT_MARKS) * 100\n",
        "\n",
        "  # Step 11: Calculate overall percentage\n",
        "  overall_perc = (overall_total_student_marks / (NUMBER_STUDENTS * TOTAL_MARKS)) * 100\n",
        "\n",
        "  # Step 12: Print the class average percentage for each subject\n",
        "  print(\"Class Average And Percentage for Each Subject:\")\n",
        "  print(f\"Physics Average is {class_phys_avg:.2f} and Percentage is {class_phys_perc:.2f}%\")\n",
        "  print(f\"Chemistry Average is {class_chem_avg:.2f} and Percentage is {class_chem_perc:.2f}%\")\n",
        "  print(f\"Mathematics Average is {class_math_avg:.2f} and Percentage is {class_math_perc:.2f}%\")\n",
        "  print(f\"Overall Percentage: {overall_perc:.2f}%\")"
      ],
      "metadata": {
        "id": "kwn33u0jZyDS",
        "colab": {
          "base_uri": "https://localhost:8080/"
        },
        "outputId": "fdb6751e-697b-4c86-bd6a-04c33c19e986"
      },
      "execution_count": null,
      "outputs": [
        {
          "output_type": "stream",
          "name": "stdout",
          "text": [
            "Enter name of student 1: Narayan\n",
            "Enter Physics marks out of 50 for student 1: 40\n",
            "Enter Chemistry marks out of 50 for student 1: 35\n",
            "Enter Mathematics marks out of 50 for student 1: 30\n",
            "\n",
            "New School Of Learning - Class XI - Narayan\n",
            "------------------------------------------------------------------------\n",
            "|     Subject     |   Total Marks   | Marks Obtained  |   Percentage    |\n",
            "------------------------------------------------------------------------\n",
            "|     Physics     |       50        |       40        |      80.0       |\n",
            "|    Chemistry    |       50        |       35        |      70.0       |\n",
            "|   Mathematics   |       50        |       30        |      60.0       |\n",
            "------------------------------------------------------------------------\n",
            "|      Total      |       150       |       105       |      70.0       |\n",
            "------------------------------------------------------------------------\n",
            "\n",
            "Enter name of student 2: Karthik\n",
            "Enter Physics marks out of 50 for student 2: 40\n",
            "Enter Chemistry marks out of 50 for student 2: 45\n",
            "Enter Mathematics marks out of 50 for student 2: 40\n",
            "\n",
            "New School Of Learning - Class XI - Karthik\n",
            "------------------------------------------------------------------------\n",
            "|     Subject     |   Total Marks   | Marks Obtained  |   Percentage    |\n",
            "------------------------------------------------------------------------\n",
            "|     Physics     |       50        |       40        |      80.0       |\n",
            "|    Chemistry    |       50        |       45        |      90.0       |\n",
            "|   Mathematics   |       50        |       40        |      80.0       |\n",
            "------------------------------------------------------------------------\n",
            "|      Total      |       150       |       125       |      83.33      |\n",
            "------------------------------------------------------------------------\n",
            "\n",
            "Enter name of student 3: Vidya\n",
            "Enter Physics marks out of 50 for student 3: 40\n",
            "Enter Chemistry marks out of 50 for student 3: 40\n",
            "Enter Mathematics marks out of 50 for student 3: 45\n",
            "\n",
            "New School Of Learning - Class XI - Vidya\n",
            "------------------------------------------------------------------------\n",
            "|     Subject     |   Total Marks   | Marks Obtained  |   Percentage    |\n",
            "------------------------------------------------------------------------\n",
            "|     Physics     |       50        |       40        |      80.0       |\n",
            "|    Chemistry    |       50        |       40        |      80.0       |\n",
            "|   Mathematics   |       50        |       45        |      90.0       |\n",
            "------------------------------------------------------------------------\n",
            "|      Total      |       150       |       125       |      83.33      |\n",
            "------------------------------------------------------------------------\n",
            "\n",
            "Class Average And Percentage for Each Subject:\n",
            "Physics Average is 40.00 and Percentage is 80.00%\n",
            "Chemistry Average is 40.00 and Percentage is 80.00%\n",
            "Mathematics Average is 38.33 and Percentage is 76.67%\n",
            "Overall Percentage: 78.89%\n"
          ]
        }
      ]
    },
    {
      "cell_type": "markdown",
      "source": [
        "# Day 03 Python Control Flow Cheet Sheet\n",
        "\n",
        "**CODIN CONCEPT**\n",
        "\n",
        "> **1: Code Refactoring -** Refactoring is the process of restructuring code without altering its original functionality. The primary aim of refactoring is to enhance internal code quality through numerous small changes while preserving the code's external behavior.\n",
        "\n",
        "> **2: DRY PRICIPLE -** DRY is a software development principle that stands for “Don't Repeat Yourself.” Living by this principle means that your aim is to reduce repetitive patterns and duplicate code and logic in favor of modular and referenceable code.\n",
        "\n",
        "> **3: Python None Type -** Python uses the keyword None to define None and it effectively means there is no value or it is empty and is of type `NoneType`.\n",
        "\n",
        "> **4: Proper Handling User Input Error -** It is important for the program to take any kind of user input and proper handling of the same without any abrupt error.\n",
        "\n",
        "> **5: Unit Test Cases -** Unit tests are designed to test single units of code in isolation. They are quick and easy to create, and help find and fix bugs early in the development cycle.\n",
        "\n",
        "> **6: Python Multi-Line Statements: -**In Python, the preferred way of wrapping a long statement in multiple lines is by enclosing the statement in parentheses `()`.\n",
        "\n",
        "> **7: Python Operators -** Operators are special symbols that perform operations on variables and values. They are\n",
        "<br>Arithmetic Operators like `+`, `-`, `*`, `**`...,\n",
        "<br>Assignment Operator `=`, `+=`, `-=`, `++`,\n",
        "<br>Comparison Operator to compare 2 values like `==`, `!=`, `>=`, <, < ...\n",
        "<br>Logical Operator used in expression `and`, `or`, and `not`\n",
        "<br> Special Operators like **Identity operators** `is` & `is not` or **Membership Operators** `in` and `not in`\n",
        "\n",
        "> **8: Python Blocks -** A block is a piece of Python program that is executed as a unit. Python uses `:` and indentation to define a block of code.\n",
        "\n",
        "> **9: Python if…elif…else Statement -** The **Python `if : elif : else :` block** is used to determine the execution of a python block based on the evaluation of a Boolean expression.\n",
        "`if : elif : else :`\n",
        "\n",
        "> **10: Python - Match-Case Statement -** A Python match-case statement matches the value to successive patterns given as one or more case blocks.\n",
        "\n",
        "> **11: Python Loops -** A loop is a control structure that can execute a statement or group of statements repeatedly. Python has three types of loops: `while :` loops, `for :` loops, and nested loops.\n",
        "\n",
        "> **12: Python while Loop -** A while loop will repeatedly execute a code block as long as a condition evaluates to True.\n",
        "```\n",
        "while condition:\n",
        "  ...# Code inside\n",
        "```\n",
        "> **13: Python for Loop -** A for loop can be used to iterate over and perform an action one time for each element in a list or a range.\n",
        "```\n",
        "for num in [1, 2, 3]:   # approach 1 using list\n",
        "  print(num)\n",
        "for i in range(1, 4):   # approach 2 using range\n",
        "  print(num)\n",
        "for vowel in 'aeiou':   # approach 1 using string\n",
        "  print(vowel)\n",
        "```\n",
        "\n",
        "> **14: Python Nested Loops -** Loops can be nested inside other loops. Simply Loop inside Loop.\n",
        "```\n",
        "full_names = [[\"Bill\", \"Gates\"], [\"Steve\", \"Jobs\"], [\"Narayan\", \"Mahadevan\"]]\n",
        "for full_name in full_names:  \n",
        "  print(\"Full Name:\", end = \" \")\n",
        "  for name in full_name:\n",
        "    print(name, end = \" \")\n",
        "  print()\n",
        "Output =>\n",
        "Full Name: Bill Gates\n",
        "Full Name: Steve Jobs\n",
        "Full Name: Narayan Mahadevan\n",
        "```\n",
        "\n",
        "> **15: Python range() Function -** The range() function in Python generates a sequence of numbers. By default, the sequence starts at 0, increments by 1, and stops before the specified number.\n",
        "```\n",
        "print(f\"{list(range(4))}\")        # print a sequence from 0 to 3 (4 is not included)\n",
        "print(f\"{list(range(1, 4))}\")     # print a sequence from 1 to 3 (4 is not included)\n",
        "print(f\"{list(range(1, 4, 2))}\")  # print a sequence from 1 and 3 because optional\n",
        "Output =>\n",
        "[0, 1, 2, 3]\n",
        "[1, 2, 3]\n",
        "[1, 3]\n",
        "```\n"
      ],
      "metadata": {
        "id": "uXzOWtujZL1Y"
      }
    },
    {
      "cell_type": "markdown",
      "source": [
        "# Day 03 Python Control Flow Self Practices\n"
      ],
      "metadata": {
        "id": "DPIWk--ewzBF"
      }
    },
    {
      "cell_type": "markdown",
      "source": [
        "## PROG 1: Odd or Even Number\n",
        "\n",
        "Write a program that takes an integer as input and prints whether it is even or odd. Ensure better handling of user input. Please ensure the program passes the following test cases at the least\n",
        "\n",
        "> **Test Case: 1 -**\n",
        "- **Input =>** Enter a Number, e.g. 10\n",
        "- **Output =>** `10 is an even number`\n",
        "\n",
        "> **Test Case: 2 -**\n",
        "- **Input =>** Enter a Number, e.g. test\n",
        "- **Output =>** `Please enter a valid number`\n",
        "\n",
        "> **Test Case: 3 -**\n",
        "- **Input =>** Enter a Number, e.g. 3.14\n",
        "- **Output =>** `Please enter a valid number`\n",
        "\n",
        "> **Test Case: 4 -**\n",
        "- **Input =>** Enter a Number, e.g. 5\n",
        "- **Output =>** `5 is an odd number`\n",
        "\n",
        "> **Hint =>**\n",
        "1. Use `isdigit()` method of `str` class to determing the number entered is a digit. Post that\n",
        "2. Use Condition Operation with Modulo Operator `%` to determine odd or even\n",
        "3. Use of Python Formatted String Literal (f-String) in print to display formatted string\n"
      ],
      "metadata": {
        "id": "DjgGDBz8xMfX"
      }
    },
    {
      "cell_type": "code",
      "source": [
        "# Odd or Even Number\n",
        "\n",
        "# Step 1: Prompt the user to enter the number\n",
        "number = input(\"Enter a number: \")\n",
        "# Step 2: Check the number is digit or not\n",
        "if number.isdigit():\n",
        "  number= int(number)\n",
        "  # Check the number is even or odd\n",
        "  if number % 2 == 0 :\n",
        "    print(f\"{number} is an even number.\")\n",
        "  else:\n",
        "    print(f\"{number} is an odd number.\")\n",
        "else:\n",
        "    print(f\"Please enter a valid number.\")"
      ],
      "metadata": {
        "colab": {
          "base_uri": "https://localhost:8080/"
        },
        "id": "bqjUqs_o7sWm",
        "outputId": "82229096-5124-4c30-e1b5-a92cf84fb368"
      },
      "execution_count": null,
      "outputs": [
        {
          "output_type": "stream",
          "name": "stdout",
          "text": [
            "Enter a number: 10\n",
            "10 is an even number.\n"
          ]
        }
      ]
    },
    {
      "cell_type": "markdown",
      "source": [
        "## PROG 2: Spring Season\n",
        "\n",
        "Write a program SpringSeason that takes two int values month and day as input and prints true if day  of month  is between Feb 12  (month = 2, day =12) and April 11  (month = 4, day = 11), false otherwise.\n",
        "\n",
        "Program also does input validation for month to be between 1 to 12  and dates for simplicity is assumed to be between 1 to 30.\n",
        "\n",
        "> **Test Case: 1 -**\n",
        "- **Input =>** Enter the month (1-12): 13 and Enter the day (1-30): 22\n",
        "- **Output =>** `Invalid input. Month 13 should be between 1 and 12 and day 22 should be between 1 and 30.`\n",
        "\n",
        "> **Test Case: 2 -**\n",
        "- **Input =>** Enter the month (1-12): 1.0 and Enter the day (1-30): 22\n",
        "- **Output =>** `Invalid input. Month 1.0 and day 12 should be integers.`\n",
        "\n",
        "> **Test Case: 3 -**\n",
        "- **Input =>** Enter the month (1-12): 10 and Enter the day (1-30): 22\n",
        "- **Output =>** `Month 10 and Day 22 is not a spring season`\n",
        "\n",
        "> **Test Case: 4 -**\n",
        "- **Input =>** Enter the month (1-12): 2 and Enter the day (1-30): 22\n",
        "- **Output =>** `Month 2 and Day 22 is a spring season`\n",
        "\n",
        "> **Hint =>**\n",
        "1. Use `isdigit()` method of `str` class to determing the number entered is a digit.\n",
        "2. Check Month and Day fall between the specified Month and Day using Conditional Statement of Conditional and Logical Operators\n",
        "3. Use of Python Formatted String Literal (f-String) in print to display formatted string\n",
        "\n"
      ],
      "metadata": {
        "id": "OhdoUSl1l_3X"
      }
    },
    {
      "cell_type": "code",
      "source": [
        "# PROG 2: Spring Season\n",
        "\n",
        "def is_spring_season(month, day):\n",
        "    if month == 2 and day>=12 :\n",
        "       print(f\"month {month} and day {day} is a Spring season.\")\n",
        "    elif month == 4 and day<=11 :\n",
        "       print(f\"month {month} and day {day} is a Spring season.\")\n",
        "    elif month > 2 and month < 4:\n",
        "        print(f\"month {month} and day {day} is a Spring season.\")\n",
        "    else:\n",
        "       print(f\"month {month} and day {day} is not a Spring season.\")\n",
        "\n",
        "# Prompt the user to enter day and month\n",
        "month = input(\"Enter the month (1-12): \")\n",
        "day = input(\"Enter the day(1-30): \")\n",
        "\n",
        "if month.isdigit() and day.isdigit():\n",
        "  month = int(month)\n",
        "  day = int(day)\n",
        "  is_spring_season(month, day)\n",
        " # print(f\"month {month} and day {day} is a Spring season.\")\n",
        "else:\n",
        "  print(f\"Enter the valid inputs.\")\n"
      ],
      "metadata": {
        "id": "xhHKXsI4qcE0",
        "colab": {
          "base_uri": "https://localhost:8080/"
        },
        "outputId": "79d01fd4-58d4-46c2-fb54-d1ae8a964529"
      },
      "execution_count": null,
      "outputs": [
        {
          "output_type": "stream",
          "name": "stdout",
          "text": [
            "Enter the month (1-12): 3\n",
            "Enter the day(1-30): 3\n",
            "month 3 and day 3 is a Spring season.\n"
          ]
        }
      ]
    },
    {
      "cell_type": "markdown",
      "source": [
        "## PROG 3: Month Name from month number\n",
        "\n",
        "Take the user input as month number. Based on the number entered, print the month name as (Jan, Feb Mar, …. ) e.g. Input : 10 than Output : Oct\n",
        "\n",
        "> **Test Case: 1 -**\n",
        "- **Input =>** Enter the month number (1-12): 12\n",
        "- **Output =>** `Month name for 12 is Dec`\n",
        "\n",
        "> **Test Case: 2 -**\n",
        "- **Input =>** Enter the month number (1-12): 1\n",
        "- **Output =>** `Month name for 01 is Jan`\n",
        "\n",
        "> **Test Case: 2 -**\n",
        "- **Input =>** Enter the month number (1-12): 13\n",
        "- **Output =>** `Invalid input. Month number 13 should be between 1 and 12.`\n",
        "\n",
        "\n",
        "> **Hint =>**\n",
        "1. Firstly write the program with `if: elif: else:` Block\n",
        "2: Next write the same program with `match : case :` block\n",
        "3. Python String Format Specifier for Integers `:02d` to put leading zeors if it is a single digit number. For e.g. 1 is represented as 01\n"
      ],
      "metadata": {
        "id": "ysMcoUyeq8FO"
      }
    },
    {
      "cell_type": "markdown",
      "source": [
        "### PROG 3.1: Month Name from month number using if block\n",
        "\n",
        "This program uses `if:`, `elif:` and `else :` block to determine month name from month number"
      ],
      "metadata": {
        "id": "p9xgoQls3SxL"
      }
    },
    {
      "cell_type": "code",
      "source": [
        "# PROG 3.1: Month Name from month number using if block\n",
        "\n",
        "def month_num_match(month_number):\n",
        "  if month_number == 1:\n",
        "    print(f\"Month name for {month_number:02d} is January\")\n",
        "  elif month_number == 2:\n",
        "    print(f\"Month name for {month_number:02d} is Febraury\")\n",
        "  elif month_number == 3:\n",
        "    print(f\"Month name for {month_number:02d} is March\")\n",
        "  elif month_number == 4:\n",
        "    print(f\"Month name for {month_number:02d} is April\")\n",
        "  elif month_number == 5:\n",
        "    print(f\"Month name for {month_number:02d} is May\")\n",
        "  elif month_number == 6:\n",
        "    print(f\"Month name for {month_number:02d} is June\")\n",
        "  elif month_number ==7:\n",
        "    print(f\"Month name for {month_number:02d} is July\")\n",
        "  elif month_number == 8:\n",
        "    print(f\"Month name for {month_number:02d} is August\")\n",
        "  elif month_number == 9:\n",
        "    print(f\"Month name for {month_number:02d} is September\")\n",
        "  elif month_number == 10:\n",
        "    print(f\"Month name for {month_number:02d} is October\")\n",
        "  elif month_number == 11:\n",
        "    print(f\"Month name for {month_number:02d} is November\")\n",
        "  elif month_number == 12:\n",
        "    print(f\"Month name for {month_number:02d} is December\")\n",
        "  else :\n",
        "    print(f\"Invalid input. Month number {month_number} should be between 1 and 12.\")\n",
        "\n",
        "#Prompt the user to enter the month number\n",
        "month_number = input(\"Enter the month number (1-12): \")\n",
        "\n",
        "if month_number.isdigit():\n",
        "  month_number = int(month_number)\n",
        "  month_num_match(month_number)\n",
        "else:\n",
        "  print(f\"Invalid input. Enter integer values for month.\")\n",
        "\n",
        "\n",
        "\n"
      ],
      "metadata": {
        "id": "IZhI9AJstcoG",
        "colab": {
          "base_uri": "https://localhost:8080/"
        },
        "outputId": "a431f622-9471-4768-cc1d-09cbf70a6f62"
      },
      "execution_count": null,
      "outputs": [
        {
          "output_type": "stream",
          "name": "stdout",
          "text": [
            "Enter the month number (1-12): 4\n",
            "Month name for 04 is April\n"
          ]
        }
      ]
    },
    {
      "cell_type": "markdown",
      "source": [
        "### PROG 3.2: Month Name from month number using match block\n",
        "\n",
        "This program uses `match:` and `case:` block to determine month name from month number"
      ],
      "metadata": {
        "id": "HfPccUBB3h7h"
      }
    },
    {
      "cell_type": "code",
      "source": [
        "# PROG 3.2: Month Name from month number with match and case block\n",
        "\n",
        "def month_num_match(month_num):\n",
        "  match month_num:\n",
        "    case 1:\n",
        "      return \"Jan\"\n",
        "    case 2:\n",
        "      return \"Feb1\"\n",
        "    case 3:\n",
        "      return \"Mar\"\n",
        "    case 4:\n",
        "      return \"Apr\"\n",
        "    case 5:\n",
        "      return \"May\"\n",
        "    case 6:\n",
        "      return \"Jun\"\n",
        "    case 7:\n",
        "      return \"Jul\"\n",
        "    case 8:\n",
        "      return \"Aug\"\n",
        "    case 9:\n",
        "      return \"Sep\"\n",
        "    case 10:\n",
        "      return \"Oct\"\n",
        "    case 11:\n",
        "      return \"Nov\"\n",
        "    case 12:\n",
        "      return \"Dec\"\n",
        "    case _:\n",
        "      return f\"Invalid input. Month number should be between 1 and 12.\"\n",
        "\n",
        "\n",
        "#Prompt the user to enter the month number\n",
        "month_num = input(\"Enter the month number (1-12): \")\n",
        "\n",
        "#check the input is digit or not\n",
        "if month_num.isdigit():\n",
        "  month_num = int(month_num)\n",
        "  month_name = month_num_match(month_num)\n",
        "  print(f\"Month name for {month_num:02d} is {month_name}\")\n",
        "else:\n",
        "  print(f\"Invalid input. Enter integer values for month.\")\n"
      ],
      "metadata": {
        "id": "wsQ687Bt3FIa",
        "colab": {
          "base_uri": "https://localhost:8080/"
        },
        "outputId": "aeaec9f2-b5bf-48ff-deaf-900ebf9595b9"
      },
      "execution_count": null,
      "outputs": [
        {
          "output_type": "stream",
          "name": "stdout",
          "text": [
            "Enter the month number (1-12): 4\n",
            "Month name for 04 is Apr\n"
          ]
        }
      ]
    },
    {
      "cell_type": "markdown",
      "source": [
        "## PROG 4: Factorial\n",
        "\n",
        "Write a program that takes a n as input number and computes factorial of n and prints the same. Ensure better handling of user input. In case of bad input default to 5 Factorial. Please ensure the program passes the following test cases at the least\n",
        "\n",
        "> **Test Case: 1 -**\n",
        "- **Input =>** Enter a Number: -1\n",
        "- **Output =>** `Factorial of number 5 is 120.`\n",
        "\n",
        "> **Test Case: 2 -**\n",
        "- **Input =>** Enter a Number: test\n",
        "- **Output =>** `Factorial of number 5 is 120.`\n",
        "\n",
        "> **Test Case: 3 -**\n",
        "- **Input =>** Enter a Number: 3.14\n",
        "- **Output =>** `Factorial of number 5 is 120.`\n",
        "\n",
        "> **Test Case: 4 -**\n",
        "- **Input =>** Enter a Number: 5\n",
        "- **Output =>** `Factorial of number 5 is 120.`\n",
        "\n",
        "> **Hint =>**\n",
        "1. Use `isdigit()` method of `str` class to determing the number entered is a digit.\n",
        "2. Use while loop with condition `number > 1`\n",
        "3. Start with number entered and decrement by 1 using `-=`\n",
        "3. Factorial of number 5! is 1 x 2 x 3 x 4 x 5 = 120\n",
        "4. Use of Python Formatted String Literal (f-String) in print to display formatted string\n"
      ],
      "metadata": {
        "id": "MCeT9jNyHi7J"
      }
    },
    {
      "cell_type": "code",
      "source": [
        "# PROG 4: Factorial\n",
        "\n",
        "# Constant\n",
        "DEFAULT_FIVE = 5\n",
        "\n",
        "def factorial(n):\n",
        "    if n < 0 or not isinstance(n, int):\n",
        "        n = DEFAULT_FIVE  # default to 5 if input is not as expected\n",
        "    fact = 1\n",
        "    while n > 1:\n",
        "        fact *= n\n",
        "        n -= 1\n",
        "    return fact\n",
        "\n",
        "number = input(\"Enter the number: \")\n",
        "if number.isdigit() :\n",
        "  number = int(number)\n",
        "else:\n",
        "  number = DEFAULT_FIVE\n",
        "\n",
        "result = factorial(number)\n",
        "print(f\"Factorial of number {number} is {result}.\")"
      ],
      "metadata": {
        "id": "ZjYiALk7XTNF",
        "colab": {
          "base_uri": "https://localhost:8080/"
        },
        "outputId": "9604336a-ac69-4e66-f84a-83f9b6423219"
      },
      "execution_count": null,
      "outputs": [
        {
          "output_type": "stream",
          "name": "stdout",
          "text": [
            "Enter the number: test\n",
            "Factorial of number 5 is 120.\n"
          ]
        }
      ]
    },
    {
      "cell_type": "markdown",
      "source": [
        "## PROG 5: Harmonic Number\n",
        "\n",
        "Write a program Harmonic Number that takes an input  n and prints the nth harmonic number. Harmonic Number is of the form Hn = 1 + 1/2 + 1/3 + 1/4 + ... + 1/n.\n",
        "\n",
        "Print the output with 2 decimal digits precision. Ensure better handling of user input.\n",
        "\n",
        "Please ensure the program passes the following test cases at the least\n",
        "\n",
        "> **Test Case: 1 -**\n",
        "- **Input =>** Enter a positive integer: -1\n",
        "- **Output =>** `print(\"Invalid input -1. Please enter a positive integer.\")`\n",
        "\n",
        "> **Test Case: 2 -**\n",
        "- **Input =>** Enter a positive integer: test\n",
        "- **Output =>** `print(\"Invalid input test. Please enter a positive integer.\")`\n",
        "\n",
        "> **Test Case: 3 -**\n",
        "- **Input =>** Enter a positive integer: 3.14\n",
        "- **Output =>** `Invalid input 3.14. Please enter a positive integer.`\n",
        "\n",
        "> **Test Case: 4 -**\n",
        "- **Input =>** Enter a positive integer: 5\n",
        "- **Output =>** `Harmonic number of 5 is 2.28`\n",
        "\n",
        "> **Hint =>**\n",
        "1. Use `isdigit()` method of `str` class to determing the number entered is a digit.\n",
        "2. Check for positive integer.\n",
        "3. Write first with while loop. Begin with 1 and increment till we reach entered number. Use the Operator `+=` to incerment by 1\n",
        "4. Write also with for loop using range function\n",
        "5. Use of Python Formatted String Literal (f-String) for floating point number to print the result\n",
        "6. The value of a harmonic number can be determined by using the formula Hn = 1 + 1/2 + 1/3 + 1/4 + ... + 1/n. This means that you add the reciprocals of all the positive integers up to the limit, and then add 1 to the result.\n"
      ],
      "metadata": {
        "id": "IpbqK0qmLMe_"
      }
    },
    {
      "cell_type": "markdown",
      "source": [
        "### PROG 5.1: Harmonic Number using while loop\n",
        "\n",
        "Write a program Harmonic Number that takes an input n and prints the nth harmonic number using while loop"
      ],
      "metadata": {
        "id": "kXsppxWMXWZ5"
      }
    },
    {
      "cell_type": "code",
      "source": [
        "# PROG 5.1: Harmonic Number using while loop\n",
        "\n",
        "def harmonic_number(number):\n",
        "    result = 0\n",
        "    i = 1\n",
        "    while i <= number:\n",
        "        result += 1 / i\n",
        "        i += 1\n",
        "    return result\n",
        "\n",
        "# Prompt the user to enter the number\n",
        "number = input(\"Enter the positive integer: \")\n",
        "if number.isdigit() :\n",
        "  number = int(number)\n",
        "  final_result = harmonic_number(number)\n",
        "  print(f\"Harmonic number of {number} is {final_result:.2f}.\")\n",
        "else:\n",
        "  print(f\"Invalid input {number}. Please enter a positive integer.\")"
      ],
      "metadata": {
        "id": "kMyfG19DXUNV",
        "colab": {
          "base_uri": "https://localhost:8080/"
        },
        "outputId": "01dc8a7c-4309-4e4e-bf20-f52a9f94813d"
      },
      "execution_count": null,
      "outputs": [
        {
          "output_type": "stream",
          "name": "stdout",
          "text": [
            "Enter the positive integer: 5\n",
            "Harmonic number of 5 is 2.28.\n"
          ]
        }
      ]
    },
    {
      "cell_type": "markdown",
      "source": [
        "### PROG 5.2: Harmonic Number using if loop and range\n",
        "\n",
        "Write a program Harmonic Number that takes an input n and prints the nth harmonic number using if loop and range function"
      ],
      "metadata": {
        "id": "e-mDvd-lXoyJ"
      }
    },
    {
      "cell_type": "code",
      "source": [
        "# PROG 5.2: Harmonic Number using if loop and range\n",
        "\n",
        "def harmonic_number(number):\n",
        "    result = 0\n",
        "    for i in range(1, number + 1):\n",
        "        result += 1 / i\n",
        "    return result\n",
        "\n",
        "# Prompt the user to enter the number\n",
        "number = input(\"Enter the positive integer: \")\n",
        "if number.isdigit() :\n",
        "  number = int(number)\n",
        "  result = harmonic_number(number)\n",
        "  print(f\"Harmonic number of {number} is {result:.2f}.\")\n",
        "else:\n",
        "  print(f\"Invalid input {number}. Please enter a positive integer.\")"
      ],
      "metadata": {
        "id": "5iDZdg0EXv8g",
        "colab": {
          "base_uri": "https://localhost:8080/"
        },
        "outputId": "ec1fbae4-fd5a-4b1e-991c-3e45f449b6bd"
      },
      "execution_count": null,
      "outputs": [
        {
          "output_type": "stream",
          "name": "stdout",
          "text": [
            "Enter the positive integer: -1\n",
            "Invalid input -1. Please enter a positive integer.\n"
          ]
        }
      ]
    },
    {
      "cell_type": "markdown",
      "source": [
        "## PROG 6: Multiplication Table\n",
        "\n",
        "Create a multiplication table of a number. Ensure better handling of user input. In case of bad input default to 5 Factorial. Please ensure the program passes the following test cases at the least\n",
        "\n",
        "> **Test Case: 1 -**\n",
        "- **Input =>** Enter a number: -1\n",
        "- **Output =>**\n",
        "```\n",
        "Table of 5:\n",
        "5  X  1  =  5\n",
        "5  X  2  =  10\n",
        "5  X  3  =  15\n",
        "5  X  4  =  20\n",
        "5  X  5  =  25\n",
        "5  X  6  =  30\n",
        "5  X  7  =  35\n",
        "5  X  8  =  40\n",
        "5  X  9  =  45\n",
        "5  X  10 =  50\n",
        "```\n",
        "\n",
        "> **Test Case: 2 -**\n",
        "- **Input =>** Enter a number: test\n",
        "- **Output =>**\n",
        "```\n",
        "Table of 5:\n",
        "5  X  1  =  5\n",
        "5  X  2  =  10\n",
        "5  X  3  =  15\n",
        "5  X  4  =  20\n",
        "5  X  5  =  25\n",
        "5  X  6  =  30\n",
        "5  X  7  =  35\n",
        "5  X  8  =  40\n",
        "5  X  9  =  45\n",
        "5  X  10 =  50\n",
        "```\n",
        "\n",
        "> **Test Case: 3 -**\n",
        "- **Input =>** Enter a number: 3.14\n",
        "- **Output =>**\n",
        "```\n",
        "Table of 5:\n",
        "5  X  1  =  5\n",
        "5  X  2  =  10\n",
        "5  X  3  =  15\n",
        "5  X  4  =  20\n",
        "5  X  5  =  25\n",
        "5  X  6  =  30\n",
        "5  X  7  =  35\n",
        "5  X  8  =  40\n",
        "5  X  9  =  45\n",
        "5  X  10 =  50\n",
        "```\n",
        "\n",
        "> **Test Case: 4 -**\n",
        "- **Input =>** Enter a number: 10\n",
        "- **Output =>**\n",
        "```\n",
        "Table of 10:\n",
        "10  X  1  =  10\n",
        "10  X  2  =  20\n",
        "10  X  3  =  30\n",
        "10  X  4  =  40\n",
        "10  X  5  =  50\n",
        "10  X  6  =  60\n",
        "10  X  7  =  70\n",
        "10  X  8  =  80\n",
        "10  X  9  =  90\n",
        "10  X  10 =  100\n",
        "```\n",
        "\n",
        "> **Hint =>**\n",
        "1. Use for loop and range function to perform the multiplication\n",
        "2. Use `isdigit()` method of `str` class to determing the number entered is a digit.\n",
        "3. Use of Python Formatted String Literal (f-String) in print to display formatted string"
      ],
      "metadata": {
        "id": "ftfANzjLZ3BZ"
      }
    },
    {
      "cell_type": "code",
      "source": [
        "# PROG 6: Multiplication Table\n",
        "FIVE = 5\n",
        "def multiplication_table(number):\n",
        "    table = []\n",
        "    for i in range(1, 11):\n",
        "        table.append(number * i)\n",
        "    return table\n",
        "\n",
        "number = input(\"Enter the number: \")\n",
        "if number.isdigit():\n",
        "  number = int(number)\n",
        "  table = multiplication_table(number)\n",
        "  print(f\"Multiplication table of {number}:\")\n",
        "  for i in range(1, 11):\n",
        "    print(f\"{number} x {i} = {table[i-1]}\")\n",
        "else:\n",
        "  number = FIVE\n",
        "  table = multiplication_table(number)\n",
        "  print(f\"Multiplication table of {number}:\")\n",
        "  for i in range(1, 11):\n",
        "    print(f\"{number} x {i} = {table[i-1]}\")"
      ],
      "metadata": {
        "id": "5wPkft62dCmE",
        "colab": {
          "base_uri": "https://localhost:8080/"
        },
        "outputId": "bbc5ae88-1b4b-4ef3-b397-851afccfbf7f"
      },
      "execution_count": null,
      "outputs": [
        {
          "output_type": "stream",
          "name": "stdout",
          "text": [
            "Enter the number: 8.9]\n",
            "Multiplication table of 5:\n",
            "5 x 1 = 5\n",
            "5 x 2 = 10\n",
            "5 x 3 = 15\n",
            "5 x 4 = 20\n",
            "5 x 5 = 25\n",
            "5 x 6 = 30\n",
            "5 x 7 = 35\n",
            "5 x 8 = 40\n",
            "5 x 9 = 45\n",
            "5 x 10 = 50\n"
          ]
        }
      ]
    },
    {
      "cell_type": "markdown",
      "source": [
        "## PROG 7 : Largest Among the Three Number\n",
        "\n",
        "Create a program that takes three numbers as input and prints the largest among them.\n",
        "\n",
        "\n",
        "> **Test Case: 1 -**\n",
        "- **Input =>**\n",
        "<br>Enter the first number: 7\n",
        "<br>Enter the second number: 6\n",
        "<br>Enter the third number: 99\n",
        "- **Output =>** `The largest number among 7, 6, and 99 is: 99`\n",
        "\n",
        "> **Hint =>**\n",
        "1. Use if: else: conditional statement with comparison and logical operators to determine the largest of 3 numbers\n",
        "2. Use of Python Formatted String Literal (f-String) in print to display formatted string\n"
      ],
      "metadata": {
        "id": "fo_nEmWcscvw"
      }
    },
    {
      "cell_type": "code",
      "source": [
        "# PROG 7 : Largest Among the Three Number\n",
        "\n",
        "first_number = int(input(\"Enter the first number: \"))\n",
        "second_number = int(input(\"Enter the second number: \"))\n",
        "third_number = int(input(\"Enter the third number: \"))\n",
        "\n",
        "if first_number > second_number and first_number > third_number :\n",
        "  print(f\"The largest number among {first_number}, {second_number} and {third_number} is {first_number}\")\n",
        "elif second_number > first_number and second_number > third_number :\n",
        "  print(f\"The largest number among {first_number}, {second_number} and {third_number} is {second_number}\")\n",
        "else:\n",
        "  print(f\"The largest number among {first_number}, {second_number} and {third_number} is {third_number}\")"
      ],
      "metadata": {
        "id": "FuacllDju7tk",
        "colab": {
          "base_uri": "https://localhost:8080/"
        },
        "outputId": "b7450c4d-ceea-4c2c-b09e-4133b2d6351a"
      },
      "execution_count": null,
      "outputs": [
        {
          "output_type": "stream",
          "name": "stdout",
          "text": [
            "Enter the first number: 8\n",
            "Enter the second number: 4\n",
            "Enter the third number: 5\n",
            "The largest number among 8, 4 and 5 is 8\n"
          ]
        }
      ]
    },
    {
      "cell_type": "markdown",
      "source": [
        "## PROG 8: Day of the week\n",
        "\n",
        "Write a program that takes a number as input (1-7 ) and prints the corresponding Day of the week. If the input is not in range, message accordingly.\n",
        "\n",
        "> **Test Case: 1 -**\n",
        "- **Input =>** Enter a number (1-7) representing the day of the week: 5\n",
        "- **Output =>** `The day of the week for number 5 is Thursday.`\n",
        "\n",
        "> **Test Case: 2 -**\n",
        "- **Input =>** Enter a number (1-7) representing the day of the week: 10\n",
        "- **Output =>** `print(\"Invalid input 10. The number should be between 1 and 7.\")`\n",
        "\n",
        "> **Hint =>**\n",
        "1. Use `match:` `case:` block to determine the day\n",
        "2. If day not in range message invalid input in default `case _:` block.\n",
        "3. Use `if 'day_name' in vars() or 'day_name' in globals():` if condition block to check variable `day_name` is defined\n"
      ],
      "metadata": {
        "id": "PE5oV_PFu67c"
      }
    },
    {
      "cell_type": "code",
      "source": [
        "# PROG 8: Day of the week\n",
        "\n",
        "def day_match(day_num) :\n",
        "  match day_num:\n",
        "    case 1:\n",
        "      return \"Sunday\"\n",
        "    case 2:\n",
        "      return \"Monday\"\n",
        "    case 3:\n",
        "      return \"Tuesday\"\n",
        "    case 4:\n",
        "      return \"Wednesday\"\n",
        "    case 5:\n",
        "      return \"Thursday\"\n",
        "    case 6:\n",
        "      return \"Friday\"\n",
        "    case 7:\n",
        "      return \"Saturday\"\n",
        "\n",
        "#Prompt the user to enter the number for day\n",
        "day_num = input(\"Enter a number (1-7) representing the day of the week:\")\n",
        "if day_num.isdigit():\n",
        "  day_num = int(day_num)\n",
        "  day_name = day_match(day_num)\n",
        "  print(f\"The day of the week for number {day_num} is {day_name}.\")\n",
        "else:\n",
        "  print(f\"Invalid input {day_num}. The number should be between 1 and 7.\")\n",
        "\n",
        "if 'day_name' in vars() or 'day_name' in globals():\n",
        "  print(\"Variable 'day_name' is defined.\")\n"
      ],
      "metadata": {
        "id": "QDH3wLOqu813",
        "colab": {
          "base_uri": "https://localhost:8080/"
        },
        "outputId": "ddcc8733-6c85-47b8-b0aa-5ce19fe8dd23"
      },
      "execution_count": null,
      "outputs": [
        {
          "output_type": "stream",
          "name": "stdout",
          "text": [
            "Enter a number (1-7) representing the day of the week:3\n",
            "The day of the week for number 3 is Tuesday.\n",
            "Variable 'day_name' is defined.\n"
          ]
        }
      ]
    },
    {
      "cell_type": "markdown",
      "source": [
        "## PROG 9 : Power of 2\n",
        "\n",
        "Write a program PowerOf2 that takes  a positive number input n and prints a table of the powers of 2 that are less than or equal to **2<sup>n</sup>**.\n",
        "\n",
        "> **Test Case: 1 -**\n",
        "- **Input =>** Enter a positive integer: -1\n",
        "- **Output =>** `print(\"Invalid input -1. Please enter a positive integer.\")`\n",
        "\n",
        "> **Test Case: 2 -**\n",
        "- **Input =>** Enter a positive integer: test\n",
        "- **Output =>** `print(\"Invalid input test. Please enter a positive integer.\")`\n",
        "\n",
        "> **Test Case: 3 -**\n",
        "- **Input =>** Enter a positive integer: 3.14\n",
        "- **Output =>** `Invalid input 3.14. Please enter a positive integer.`\n",
        "\n",
        "> **Test Case: 4 -**\n",
        "- **Input =>** Enter a positive integer: 5\n",
        "- **Output =>**\n",
        "```\n",
        "Powers of 2:\n",
        "2^0 = 1\n",
        "2^1 = 2\n",
        "2^2 = 4\n",
        "2^3 = 8\n",
        "2^4 = 16\n",
        "2^5 = 32\n",
        "```\n",
        "\n",
        "> **Hint =>**\n",
        "1. Use `isdigit()` and `isdecimal()` method of `str` class to determing the number entered is a digit.\n",
        "2. Ensure the varable is initialized to `None` as in `number = None`\n",
        "3. Check `number is not None and number > 0` for positive integer.\n",
        "4. Write with for loop using range function\n",
        "5. Use of Python Formatted String Literal (f-String) to print the result\n"
      ],
      "metadata": {
        "id": "yI7O56icwiWd"
      }
    },
    {
      "cell_type": "code",
      "source": [
        "for i in range(0,6):\n",
        "    result = 2 ** i\n",
        "    print(f\"2 raised to power {i} is {result}\")"
      ],
      "metadata": {
        "id": "9f61ozdnXTdt",
        "colab": {
          "base_uri": "https://localhost:8080/"
        },
        "outputId": "31cb1ac5-5e11-423b-9790-8e4ba097ff3f"
      },
      "execution_count": null,
      "outputs": [
        {
          "output_type": "stream",
          "name": "stdout",
          "text": [
            "2 raised to power 0 is 1\n",
            "2 raised to power 1 is 2\n",
            "2 raised to power 2 is 4\n",
            "2 raised to power 3 is 8\n",
            "2 raised to power 4 is 16\n",
            "2 raised to power 5 is 32\n"
          ]
        }
      ]
    },
    {
      "cell_type": "code",
      "source": [
        "# PROG 9 : Power of 2\n",
        "\n",
        "def power_two(number):\n",
        "  for i in range(0, number + 1):\n",
        "    result = 2 ** i\n",
        "    # return result\n",
        "    print(f\"2^{i} = {result}\")\n",
        "\n",
        "#Prompt the user to enter the positive integer\n",
        "number = None\n",
        "number = input(\"Enter a positive integer: \")\n",
        "\n",
        "if number.isdigit():\n",
        "  number = int(number)\n",
        "  if number is not None and number>0:\n",
        "    print((f\"power of 2:\"))\n",
        "    power_result= power_two(number)\n",
        "else:\n",
        "  print(f\"Invalid input {number}. Please enter a positive integer.\")\n",
        "\n"
      ],
      "metadata": {
        "id": "JmVf-GgKXtXN",
        "colab": {
          "base_uri": "https://localhost:8080/"
        },
        "outputId": "8a2d3972-73c3-4c44-8258-5c5fb576b0d8"
      },
      "execution_count": null,
      "outputs": [
        {
          "output_type": "stream",
          "name": "stdout",
          "text": [
            "Enter a positive integer: 5\n",
            "power of 2:\n",
            "2^0 = 1\n",
            "2^1 = 2\n",
            "2^2 = 4\n",
            "2^3 = 8\n",
            "2^4 = 16\n",
            "2^5 = 32\n"
          ]
        }
      ]
    }
  ]
}